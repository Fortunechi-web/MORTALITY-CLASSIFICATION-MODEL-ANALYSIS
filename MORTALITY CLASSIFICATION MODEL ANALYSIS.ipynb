{
 "cells": [
  {
   "cell_type": "markdown",
   "id": "850bf855",
   "metadata": {},
   "source": [
    "# Mortality Classification Model Analysis\n",
    "\n",
    "### This is a Mortality dataset downloaded from Kaggle. It is a prediction model of in-hospital mortality in intensive care unit patients with heart failure. The purpose of this project was aimed to build a prediction model and a predictive system to predict whether a patient is a survivor or non survivor. The end goal of this project was achieved."
   ]
  },
  {
   "cell_type": "markdown",
   "id": "2829e422",
   "metadata": {},
   "source": [
    "# Importing the dependencies"
   ]
  },
  {
   "cell_type": "code",
   "execution_count": 4,
   "id": "37c0489d",
   "metadata": {},
   "outputs": [],
   "source": [
    "import numpy as np\n",
    "import pandas as pd\n",
    "import matplotlib.pyplot as plt\n",
    "import seaborn as sns\n",
    "from sklearn.model_selection import train_test_split\n",
    "from sklearn.linear_model import LogisticRegression\n",
    "from sklearn.metrics import accuracy_score"
   ]
  },
  {
   "cell_type": "markdown",
   "id": "8657942c",
   "metadata": {},
   "source": [
    "# Data collection and processing"
   ]
  },
  {
   "cell_type": "code",
   "execution_count": 5,
   "id": "76c122e3",
   "metadata": {},
   "outputs": [],
   "source": [
    "# Loading the dataset to pandas dataframe\n",
    "\n",
    "Mortality_data = pd.read_csv(\"C:\\\\Users\\\\LENOVO USER\\\\Downloads\\\\data01.csv\")"
   ]
  },
  {
   "cell_type": "code",
   "execution_count": 6,
   "id": "2d9bfd78",
   "metadata": {},
   "outputs": [
    {
     "data": {
      "text/html": [
       "<div>\n",
       "<style scoped>\n",
       "    .dataframe tbody tr th:only-of-type {\n",
       "        vertical-align: middle;\n",
       "    }\n",
       "\n",
       "    .dataframe tbody tr th {\n",
       "        vertical-align: top;\n",
       "    }\n",
       "\n",
       "    .dataframe thead th {\n",
       "        text-align: right;\n",
       "    }\n",
       "</style>\n",
       "<table border=\"1\" class=\"dataframe\">\n",
       "  <thead>\n",
       "    <tr style=\"text-align: right;\">\n",
       "      <th></th>\n",
       "      <th>group</th>\n",
       "      <th>ID</th>\n",
       "      <th>outcome</th>\n",
       "      <th>age</th>\n",
       "      <th>gendera</th>\n",
       "      <th>BMI</th>\n",
       "      <th>hypertensive</th>\n",
       "      <th>atrialfibrillation</th>\n",
       "      <th>CHD with no MI</th>\n",
       "      <th>diabetes</th>\n",
       "      <th>...</th>\n",
       "      <th>Blood sodium</th>\n",
       "      <th>Blood calcium</th>\n",
       "      <th>Chloride</th>\n",
       "      <th>Anion gap</th>\n",
       "      <th>Magnesium ion</th>\n",
       "      <th>PH</th>\n",
       "      <th>Bicarbonate</th>\n",
       "      <th>Lactic acid</th>\n",
       "      <th>PCO2</th>\n",
       "      <th>EF</th>\n",
       "    </tr>\n",
       "  </thead>\n",
       "  <tbody>\n",
       "    <tr>\n",
       "      <th>0</th>\n",
       "      <td>1</td>\n",
       "      <td>125047</td>\n",
       "      <td>0.0</td>\n",
       "      <td>72</td>\n",
       "      <td>1</td>\n",
       "      <td>37.588179</td>\n",
       "      <td>0</td>\n",
       "      <td>0</td>\n",
       "      <td>0</td>\n",
       "      <td>1</td>\n",
       "      <td>...</td>\n",
       "      <td>138.750000</td>\n",
       "      <td>7.463636</td>\n",
       "      <td>109.166667</td>\n",
       "      <td>13.166667</td>\n",
       "      <td>2.618182</td>\n",
       "      <td>7.230</td>\n",
       "      <td>21.166667</td>\n",
       "      <td>0.5</td>\n",
       "      <td>40.0</td>\n",
       "      <td>55</td>\n",
       "    </tr>\n",
       "    <tr>\n",
       "      <th>1</th>\n",
       "      <td>1</td>\n",
       "      <td>139812</td>\n",
       "      <td>0.0</td>\n",
       "      <td>75</td>\n",
       "      <td>2</td>\n",
       "      <td>NaN</td>\n",
       "      <td>0</td>\n",
       "      <td>0</td>\n",
       "      <td>0</td>\n",
       "      <td>0</td>\n",
       "      <td>...</td>\n",
       "      <td>138.888889</td>\n",
       "      <td>8.162500</td>\n",
       "      <td>98.444444</td>\n",
       "      <td>11.444444</td>\n",
       "      <td>1.887500</td>\n",
       "      <td>7.225</td>\n",
       "      <td>33.444444</td>\n",
       "      <td>0.5</td>\n",
       "      <td>78.0</td>\n",
       "      <td>55</td>\n",
       "    </tr>\n",
       "    <tr>\n",
       "      <th>2</th>\n",
       "      <td>1</td>\n",
       "      <td>109787</td>\n",
       "      <td>0.0</td>\n",
       "      <td>83</td>\n",
       "      <td>2</td>\n",
       "      <td>26.572634</td>\n",
       "      <td>0</td>\n",
       "      <td>0</td>\n",
       "      <td>0</td>\n",
       "      <td>0</td>\n",
       "      <td>...</td>\n",
       "      <td>140.714286</td>\n",
       "      <td>8.266667</td>\n",
       "      <td>105.857143</td>\n",
       "      <td>10.000000</td>\n",
       "      <td>2.157143</td>\n",
       "      <td>7.268</td>\n",
       "      <td>30.571429</td>\n",
       "      <td>0.5</td>\n",
       "      <td>71.5</td>\n",
       "      <td>35</td>\n",
       "    </tr>\n",
       "    <tr>\n",
       "      <th>3</th>\n",
       "      <td>1</td>\n",
       "      <td>130587</td>\n",
       "      <td>0.0</td>\n",
       "      <td>43</td>\n",
       "      <td>2</td>\n",
       "      <td>83.264629</td>\n",
       "      <td>0</td>\n",
       "      <td>0</td>\n",
       "      <td>0</td>\n",
       "      <td>0</td>\n",
       "      <td>...</td>\n",
       "      <td>138.500000</td>\n",
       "      <td>9.476923</td>\n",
       "      <td>92.071429</td>\n",
       "      <td>12.357143</td>\n",
       "      <td>1.942857</td>\n",
       "      <td>7.370</td>\n",
       "      <td>38.571429</td>\n",
       "      <td>0.6</td>\n",
       "      <td>75.0</td>\n",
       "      <td>55</td>\n",
       "    </tr>\n",
       "    <tr>\n",
       "      <th>4</th>\n",
       "      <td>1</td>\n",
       "      <td>138290</td>\n",
       "      <td>0.0</td>\n",
       "      <td>75</td>\n",
       "      <td>2</td>\n",
       "      <td>31.824842</td>\n",
       "      <td>1</td>\n",
       "      <td>0</td>\n",
       "      <td>0</td>\n",
       "      <td>0</td>\n",
       "      <td>...</td>\n",
       "      <td>136.666667</td>\n",
       "      <td>8.733333</td>\n",
       "      <td>104.500000</td>\n",
       "      <td>15.166667</td>\n",
       "      <td>1.650000</td>\n",
       "      <td>7.250</td>\n",
       "      <td>22.000000</td>\n",
       "      <td>0.6</td>\n",
       "      <td>50.0</td>\n",
       "      <td>55</td>\n",
       "    </tr>\n",
       "  </tbody>\n",
       "</table>\n",
       "<p>5 rows × 51 columns</p>\n",
       "</div>"
      ],
      "text/plain": [
       "   group      ID  outcome  age  gendera        BMI  hypertensive  \\\n",
       "0      1  125047      0.0   72        1  37.588179             0   \n",
       "1      1  139812      0.0   75        2        NaN             0   \n",
       "2      1  109787      0.0   83        2  26.572634             0   \n",
       "3      1  130587      0.0   43        2  83.264629             0   \n",
       "4      1  138290      0.0   75        2  31.824842             1   \n",
       "\n",
       "   atrialfibrillation  CHD with no MI  diabetes  ...  Blood sodium  \\\n",
       "0                   0               0         1  ...    138.750000   \n",
       "1                   0               0         0  ...    138.888889   \n",
       "2                   0               0         0  ...    140.714286   \n",
       "3                   0               0         0  ...    138.500000   \n",
       "4                   0               0         0  ...    136.666667   \n",
       "\n",
       "   Blood calcium    Chloride  Anion gap  Magnesium ion     PH  Bicarbonate  \\\n",
       "0       7.463636  109.166667  13.166667       2.618182  7.230    21.166667   \n",
       "1       8.162500   98.444444  11.444444       1.887500  7.225    33.444444   \n",
       "2       8.266667  105.857143  10.000000       2.157143  7.268    30.571429   \n",
       "3       9.476923   92.071429  12.357143       1.942857  7.370    38.571429   \n",
       "4       8.733333  104.500000  15.166667       1.650000  7.250    22.000000   \n",
       "\n",
       "   Lactic acid  PCO2  EF  \n",
       "0          0.5  40.0  55  \n",
       "1          0.5  78.0  55  \n",
       "2          0.5  71.5  35  \n",
       "3          0.6  75.0  55  \n",
       "4          0.6  50.0  55  \n",
       "\n",
       "[5 rows x 51 columns]"
      ]
     },
     "execution_count": 6,
     "metadata": {},
     "output_type": "execute_result"
    }
   ],
   "source": [
    "# Let's preview the first five rows of this data\n",
    "\n",
    "Mortality_data.head()"
   ]
  },
  {
   "cell_type": "code",
   "execution_count": 7,
   "id": "78ee2438",
   "metadata": {},
   "outputs": [
    {
     "data": {
      "text/html": [
       "<div>\n",
       "<style scoped>\n",
       "    .dataframe tbody tr th:only-of-type {\n",
       "        vertical-align: middle;\n",
       "    }\n",
       "\n",
       "    .dataframe tbody tr th {\n",
       "        vertical-align: top;\n",
       "    }\n",
       "\n",
       "    .dataframe thead th {\n",
       "        text-align: right;\n",
       "    }\n",
       "</style>\n",
       "<table border=\"1\" class=\"dataframe\">\n",
       "  <thead>\n",
       "    <tr style=\"text-align: right;\">\n",
       "      <th></th>\n",
       "      <th>group</th>\n",
       "      <th>ID</th>\n",
       "      <th>outcome</th>\n",
       "      <th>age</th>\n",
       "      <th>gendera</th>\n",
       "      <th>BMI</th>\n",
       "      <th>hypertensive</th>\n",
       "      <th>atrialfibrillation</th>\n",
       "      <th>CHD with no MI</th>\n",
       "      <th>diabetes</th>\n",
       "      <th>...</th>\n",
       "      <th>Blood sodium</th>\n",
       "      <th>Blood calcium</th>\n",
       "      <th>Chloride</th>\n",
       "      <th>Anion gap</th>\n",
       "      <th>Magnesium ion</th>\n",
       "      <th>PH</th>\n",
       "      <th>Bicarbonate</th>\n",
       "      <th>Lactic acid</th>\n",
       "      <th>PCO2</th>\n",
       "      <th>EF</th>\n",
       "    </tr>\n",
       "  </thead>\n",
       "  <tbody>\n",
       "    <tr>\n",
       "      <th>1172</th>\n",
       "      <td>2</td>\n",
       "      <td>171130</td>\n",
       "      <td>0.0</td>\n",
       "      <td>62</td>\n",
       "      <td>1</td>\n",
       "      <td>25.516870</td>\n",
       "      <td>1</td>\n",
       "      <td>1</td>\n",
       "      <td>0</td>\n",
       "      <td>1</td>\n",
       "      <td>...</td>\n",
       "      <td>136.714286</td>\n",
       "      <td>10.271429</td>\n",
       "      <td>94.428571</td>\n",
       "      <td>20.142857</td>\n",
       "      <td>2.714286</td>\n",
       "      <td>NaN</td>\n",
       "      <td>27.714286</td>\n",
       "      <td>NaN</td>\n",
       "      <td>NaN</td>\n",
       "      <td>40</td>\n",
       "    </tr>\n",
       "    <tr>\n",
       "      <th>1173</th>\n",
       "      <td>2</td>\n",
       "      <td>101659</td>\n",
       "      <td>0.0</td>\n",
       "      <td>78</td>\n",
       "      <td>1</td>\n",
       "      <td>25.822710</td>\n",
       "      <td>0</td>\n",
       "      <td>1</td>\n",
       "      <td>0</td>\n",
       "      <td>1</td>\n",
       "      <td>...</td>\n",
       "      <td>135.680000</td>\n",
       "      <td>10.523529</td>\n",
       "      <td>101.720000</td>\n",
       "      <td>18.160000</td>\n",
       "      <td>2.012500</td>\n",
       "      <td>NaN</td>\n",
       "      <td>20.480000</td>\n",
       "      <td>NaN</td>\n",
       "      <td>NaN</td>\n",
       "      <td>30</td>\n",
       "    </tr>\n",
       "    <tr>\n",
       "      <th>1174</th>\n",
       "      <td>2</td>\n",
       "      <td>162069</td>\n",
       "      <td>0.0</td>\n",
       "      <td>85</td>\n",
       "      <td>2</td>\n",
       "      <td>23.891779</td>\n",
       "      <td>1</td>\n",
       "      <td>1</td>\n",
       "      <td>0</td>\n",
       "      <td>1</td>\n",
       "      <td>...</td>\n",
       "      <td>136.000000</td>\n",
       "      <td>8.466667</td>\n",
       "      <td>97.285714</td>\n",
       "      <td>14.000000</td>\n",
       "      <td>2.028571</td>\n",
       "      <td>NaN</td>\n",
       "      <td>28.857143</td>\n",
       "      <td>NaN</td>\n",
       "      <td>NaN</td>\n",
       "      <td>55</td>\n",
       "    </tr>\n",
       "    <tr>\n",
       "      <th>1175</th>\n",
       "      <td>2</td>\n",
       "      <td>120967</td>\n",
       "      <td>0.0</td>\n",
       "      <td>79</td>\n",
       "      <td>2</td>\n",
       "      <td>35.288554</td>\n",
       "      <td>0</td>\n",
       "      <td>0</td>\n",
       "      <td>1</td>\n",
       "      <td>1</td>\n",
       "      <td>...</td>\n",
       "      <td>140.000000</td>\n",
       "      <td>8.183333</td>\n",
       "      <td>104.000000</td>\n",
       "      <td>15.750000</td>\n",
       "      <td>2.090000</td>\n",
       "      <td>NaN</td>\n",
       "      <td>24.375000</td>\n",
       "      <td>NaN</td>\n",
       "      <td>NaN</td>\n",
       "      <td>25</td>\n",
       "    </tr>\n",
       "    <tr>\n",
       "      <th>1176</th>\n",
       "      <td>2</td>\n",
       "      <td>107636</td>\n",
       "      <td>0.0</td>\n",
       "      <td>47</td>\n",
       "      <td>1</td>\n",
       "      <td>23.121384</td>\n",
       "      <td>1</td>\n",
       "      <td>0</td>\n",
       "      <td>0</td>\n",
       "      <td>1</td>\n",
       "      <td>...</td>\n",
       "      <td>135.285714</td>\n",
       "      <td>9.085714</td>\n",
       "      <td>93.857143</td>\n",
       "      <td>20.285714</td>\n",
       "      <td>2.566667</td>\n",
       "      <td>NaN</td>\n",
       "      <td>26.571429</td>\n",
       "      <td>NaN</td>\n",
       "      <td>NaN</td>\n",
       "      <td>55</td>\n",
       "    </tr>\n",
       "  </tbody>\n",
       "</table>\n",
       "<p>5 rows × 51 columns</p>\n",
       "</div>"
      ],
      "text/plain": [
       "      group      ID  outcome  age  gendera        BMI  hypertensive  \\\n",
       "1172      2  171130      0.0   62        1  25.516870             1   \n",
       "1173      2  101659      0.0   78        1  25.822710             0   \n",
       "1174      2  162069      0.0   85        2  23.891779             1   \n",
       "1175      2  120967      0.0   79        2  35.288554             0   \n",
       "1176      2  107636      0.0   47        1  23.121384             1   \n",
       "\n",
       "      atrialfibrillation  CHD with no MI  diabetes  ...  Blood sodium  \\\n",
       "1172                   1               0         1  ...    136.714286   \n",
       "1173                   1               0         1  ...    135.680000   \n",
       "1174                   1               0         1  ...    136.000000   \n",
       "1175                   0               1         1  ...    140.000000   \n",
       "1176                   0               0         1  ...    135.285714   \n",
       "\n",
       "      Blood calcium    Chloride  Anion gap  Magnesium ion  PH  Bicarbonate  \\\n",
       "1172      10.271429   94.428571  20.142857       2.714286 NaN    27.714286   \n",
       "1173      10.523529  101.720000  18.160000       2.012500 NaN    20.480000   \n",
       "1174       8.466667   97.285714  14.000000       2.028571 NaN    28.857143   \n",
       "1175       8.183333  104.000000  15.750000       2.090000 NaN    24.375000   \n",
       "1176       9.085714   93.857143  20.285714       2.566667 NaN    26.571429   \n",
       "\n",
       "      Lactic acid  PCO2  EF  \n",
       "1172          NaN   NaN  40  \n",
       "1173          NaN   NaN  30  \n",
       "1174          NaN   NaN  55  \n",
       "1175          NaN   NaN  25  \n",
       "1176          NaN   NaN  55  \n",
       "\n",
       "[5 rows x 51 columns]"
      ]
     },
     "execution_count": 7,
     "metadata": {},
     "output_type": "execute_result"
    }
   ],
   "source": [
    "# Let's preview the last five rows of this data\n",
    "\n",
    "Mortality_data.tail()"
   ]
  },
  {
   "cell_type": "code",
   "execution_count": 8,
   "id": "16f8eaaa",
   "metadata": {},
   "outputs": [
    {
     "data": {
      "text/plain": [
       "(1177, 51)"
      ]
     },
     "execution_count": 8,
     "metadata": {},
     "output_type": "execute_result"
    }
   ],
   "source": [
    "# Let's preview the number of rows and columns of the data\n",
    "\n",
    "Mortality_data.shape"
   ]
  },
  {
   "cell_type": "code",
   "execution_count": 9,
   "id": "782ce893",
   "metadata": {},
   "outputs": [
    {
     "name": "stdout",
     "output_type": "stream",
     "text": [
      "<class 'pandas.core.frame.DataFrame'>\n",
      "RangeIndex: 1177 entries, 0 to 1176\n",
      "Data columns (total 51 columns):\n",
      " #   Column                    Non-Null Count  Dtype  \n",
      "---  ------                    --------------  -----  \n",
      " 0   group                     1177 non-null   int64  \n",
      " 1   ID                        1177 non-null   int64  \n",
      " 2   outcome                   1176 non-null   float64\n",
      " 3   age                       1177 non-null   int64  \n",
      " 4   gendera                   1177 non-null   int64  \n",
      " 5   BMI                       962 non-null    float64\n",
      " 6   hypertensive              1177 non-null   int64  \n",
      " 7   atrialfibrillation        1177 non-null   int64  \n",
      " 8   CHD with no MI            1177 non-null   int64  \n",
      " 9   diabetes                  1177 non-null   int64  \n",
      " 10  deficiencyanemias         1177 non-null   int64  \n",
      " 11  depression                1177 non-null   int64  \n",
      " 12  Hyperlipemia              1177 non-null   int64  \n",
      " 13  Renal failure             1177 non-null   int64  \n",
      " 14  COPD                      1177 non-null   int64  \n",
      " 15  heart rate                1164 non-null   float64\n",
      " 16  Systolic blood pressure   1161 non-null   float64\n",
      " 17  Diastolic blood pressure  1161 non-null   float64\n",
      " 18  Respiratory rate          1164 non-null   float64\n",
      " 19  temperature               1158 non-null   float64\n",
      " 20  SP O2                     1164 non-null   float64\n",
      " 21  Urine output              1141 non-null   float64\n",
      " 22  hematocrit                1177 non-null   float64\n",
      " 23  RBC                       1177 non-null   float64\n",
      " 24  MCH                       1177 non-null   float64\n",
      " 25  MCHC                      1177 non-null   float64\n",
      " 26  MCV                       1177 non-null   float64\n",
      " 27  RDW                       1177 non-null   float64\n",
      " 28  Leucocyte                 1177 non-null   float64\n",
      " 29  Platelets                 1177 non-null   float64\n",
      " 30  Neutrophils               1033 non-null   float64\n",
      " 31  Basophils                 918 non-null    float64\n",
      " 32  Lymphocyte                1032 non-null   float64\n",
      " 33  PT                        1157 non-null   float64\n",
      " 34  INR                       1157 non-null   float64\n",
      " 35  NT-proBNP                 1177 non-null   float64\n",
      " 36  Creatine kinase           1012 non-null   float64\n",
      " 37  Creatinine                1177 non-null   float64\n",
      " 38  Urea nitrogen             1177 non-null   float64\n",
      " 39  glucose                   1159 non-null   float64\n",
      " 40  Blood potassium           1177 non-null   float64\n",
      " 41  Blood sodium              1177 non-null   float64\n",
      " 42  Blood calcium             1176 non-null   float64\n",
      " 43  Chloride                  1177 non-null   float64\n",
      " 44  Anion gap                 1177 non-null   float64\n",
      " 45  Magnesium ion             1177 non-null   float64\n",
      " 46  PH                        885 non-null    float64\n",
      " 47  Bicarbonate               1177 non-null   float64\n",
      " 48  Lactic acid               948 non-null    float64\n",
      " 49  PCO2                      883 non-null    float64\n",
      " 50  EF                        1177 non-null   int64  \n",
      "dtypes: float64(37), int64(14)\n",
      "memory usage: 469.1 KB\n"
     ]
    }
   ],
   "source": [
    "# Let's get the information about the data we are using for this analysis\n",
    "\n",
    "Mortality_data.info()"
   ]
  },
  {
   "cell_type": "code",
   "execution_count": 10,
   "id": "ca7fb035",
   "metadata": {},
   "outputs": [
    {
     "data": {
      "text/plain": [
       "Index(['group', 'ID', 'outcome', 'age', 'gendera', 'BMI', 'hypertensive',\n",
       "       'atrialfibrillation', 'CHD with no MI', 'diabetes', 'deficiencyanemias',\n",
       "       'depression', 'Hyperlipemia', 'Renal failure', 'COPD', 'heart rate',\n",
       "       'Systolic blood pressure', 'Diastolic blood pressure',\n",
       "       'Respiratory rate', 'temperature', 'SP O2', 'Urine output',\n",
       "       'hematocrit', 'RBC', 'MCH', 'MCHC', 'MCV', 'RDW', 'Leucocyte',\n",
       "       'Platelets', 'Neutrophils', 'Basophils', 'Lymphocyte', 'PT', 'INR',\n",
       "       'NT-proBNP', 'Creatine kinase', 'Creatinine', 'Urea nitrogen',\n",
       "       'glucose', 'Blood potassium', 'Blood sodium', 'Blood calcium',\n",
       "       'Chloride', 'Anion gap', 'Magnesium ion', 'PH', 'Bicarbonate',\n",
       "       'Lactic acid', 'PCO2', 'EF'],\n",
       "      dtype='object')"
      ]
     },
     "execution_count": 10,
     "metadata": {},
     "output_type": "execute_result"
    }
   ],
   "source": [
    "# Let's the check column features of this data\n",
    "\n",
    "Mortality_data.columns"
   ]
  },
  {
   "cell_type": "code",
   "execution_count": 11,
   "id": "34558fb8",
   "metadata": {},
   "outputs": [
    {
     "name": "stdout",
     "output_type": "stream",
     "text": [
      "0       False\n",
      "1       False\n",
      "2       False\n",
      "3       False\n",
      "4       False\n",
      "        ...  \n",
      "1172    False\n",
      "1173    False\n",
      "1174    False\n",
      "1175    False\n",
      "1176    False\n",
      "Length: 1177, dtype: bool\n"
     ]
    }
   ],
   "source": [
    "# Let's check if there are any duplicates in this data\n",
    "\n",
    "print(Mortality_data.duplicated())"
   ]
  },
  {
   "cell_type": "code",
   "execution_count": 12,
   "id": "7120fbc8",
   "metadata": {},
   "outputs": [
    {
     "data": {
      "text/plain": [
       "group                         0\n",
       "ID                            0\n",
       "outcome                       1\n",
       "age                           0\n",
       "gendera                       0\n",
       "BMI                         215\n",
       "hypertensive                  0\n",
       "atrialfibrillation            0\n",
       "CHD with no MI                0\n",
       "diabetes                      0\n",
       "deficiencyanemias             0\n",
       "depression                    0\n",
       "Hyperlipemia                  0\n",
       "Renal failure                 0\n",
       "COPD                          0\n",
       "heart rate                   13\n",
       "Systolic blood pressure      16\n",
       "Diastolic blood pressure     16\n",
       "Respiratory rate             13\n",
       "temperature                  19\n",
       "SP O2                        13\n",
       "Urine output                 36\n",
       "hematocrit                    0\n",
       "RBC                           0\n",
       "MCH                           0\n",
       "MCHC                          0\n",
       "MCV                           0\n",
       "RDW                           0\n",
       "Leucocyte                     0\n",
       "Platelets                     0\n",
       "Neutrophils                 144\n",
       "Basophils                   259\n",
       "Lymphocyte                  145\n",
       "PT                           20\n",
       "INR                          20\n",
       "NT-proBNP                     0\n",
       "Creatine kinase             165\n",
       "Creatinine                    0\n",
       "Urea nitrogen                 0\n",
       "glucose                      18\n",
       "Blood potassium               0\n",
       "Blood sodium                  0\n",
       "Blood calcium                 1\n",
       "Chloride                      0\n",
       "Anion gap                     0\n",
       "Magnesium ion                 0\n",
       "PH                          292\n",
       "Bicarbonate                   0\n",
       "Lactic acid                 229\n",
       "PCO2                        294\n",
       "EF                            0\n",
       "dtype: int64"
      ]
     },
     "execution_count": 12,
     "metadata": {},
     "output_type": "execute_result"
    }
   ],
   "source": [
    "# Let's check the number of missing values in this data\n",
    "\n",
    "Mortality_data.isnull().sum()"
   ]
  },
  {
   "cell_type": "markdown",
   "id": "dc90f650",
   "metadata": {},
   "source": [
    "# Handling missing values"
   ]
  },
  {
   "cell_type": "markdown",
   "id": "f105bf66",
   "metadata": {},
   "source": [
    "### Mean..... Average value\n",
    "\n",
    "### Mode...... Most repeated value"
   ]
  },
  {
   "cell_type": "code",
   "execution_count": 13,
   "id": "9f3c87b3",
   "metadata": {},
   "outputs": [
    {
     "data": {
      "text/plain": [
       "0    0.0\n",
       "Name: outcome, dtype: float64"
      ]
     },
     "execution_count": 13,
     "metadata": {},
     "output_type": "execute_result"
    }
   ],
   "source": [
    "# Let's find the mode value of 'outcome' column\n",
    "\n",
    "Mortality_data['outcome'].mode()"
   ]
  },
  {
   "cell_type": "code",
   "execution_count": 14,
   "id": "0910b182",
   "metadata": {},
   "outputs": [],
   "source": [
    "# Filling the missing values in 'outcome' column with 'Mode' value\n",
    "\n",
    "Mortality_data['outcome'].fillna(Mortality_data['outcome'].mode()[0], inplace = True)"
   ]
  },
  {
   "cell_type": "code",
   "execution_count": 15,
   "id": "2ceeb6ad",
   "metadata": {},
   "outputs": [
    {
     "data": {
      "text/plain": [
       "group                         0\n",
       "ID                            0\n",
       "outcome                       0\n",
       "age                           0\n",
       "gendera                       0\n",
       "BMI                         215\n",
       "hypertensive                  0\n",
       "atrialfibrillation            0\n",
       "CHD with no MI                0\n",
       "diabetes                      0\n",
       "deficiencyanemias             0\n",
       "depression                    0\n",
       "Hyperlipemia                  0\n",
       "Renal failure                 0\n",
       "COPD                          0\n",
       "heart rate                   13\n",
       "Systolic blood pressure      16\n",
       "Diastolic blood pressure     16\n",
       "Respiratory rate             13\n",
       "temperature                  19\n",
       "SP O2                        13\n",
       "Urine output                 36\n",
       "hematocrit                    0\n",
       "RBC                           0\n",
       "MCH                           0\n",
       "MCHC                          0\n",
       "MCV                           0\n",
       "RDW                           0\n",
       "Leucocyte                     0\n",
       "Platelets                     0\n",
       "Neutrophils                 144\n",
       "Basophils                   259\n",
       "Lymphocyte                  145\n",
       "PT                           20\n",
       "INR                          20\n",
       "NT-proBNP                     0\n",
       "Creatine kinase             165\n",
       "Creatinine                    0\n",
       "Urea nitrogen                 0\n",
       "glucose                      18\n",
       "Blood potassium               0\n",
       "Blood sodium                  0\n",
       "Blood calcium                 1\n",
       "Chloride                      0\n",
       "Anion gap                     0\n",
       "Magnesium ion                 0\n",
       "PH                          292\n",
       "Bicarbonate                   0\n",
       "Lactic acid                 229\n",
       "PCO2                        294\n",
       "EF                            0\n",
       "dtype: int64"
      ]
     },
     "execution_count": 15,
     "metadata": {},
     "output_type": "execute_result"
    }
   ],
   "source": [
    "# Let's see if there's still missing values in the 'outcome' column\n",
    "\n",
    "Mortality_data.isnull().sum()"
   ]
  },
  {
   "cell_type": "code",
   "execution_count": 16,
   "id": "d325e173",
   "metadata": {},
   "outputs": [],
   "source": [
    "# Let's convert the 'outcome' datatype to integer\n",
    "\n",
    "Mortality_data['outcome'] = Mortality_data['outcome'].astype('int')"
   ]
  },
  {
   "cell_type": "code",
   "execution_count": 17,
   "id": "fe698248",
   "metadata": {},
   "outputs": [
    {
     "name": "stdout",
     "output_type": "stream",
     "text": [
      "<class 'pandas.core.frame.DataFrame'>\n",
      "RangeIndex: 1177 entries, 0 to 1176\n",
      "Data columns (total 51 columns):\n",
      " #   Column                    Non-Null Count  Dtype  \n",
      "---  ------                    --------------  -----  \n",
      " 0   group                     1177 non-null   int64  \n",
      " 1   ID                        1177 non-null   int64  \n",
      " 2   outcome                   1177 non-null   int32  \n",
      " 3   age                       1177 non-null   int64  \n",
      " 4   gendera                   1177 non-null   int64  \n",
      " 5   BMI                       962 non-null    float64\n",
      " 6   hypertensive              1177 non-null   int64  \n",
      " 7   atrialfibrillation        1177 non-null   int64  \n",
      " 8   CHD with no MI            1177 non-null   int64  \n",
      " 9   diabetes                  1177 non-null   int64  \n",
      " 10  deficiencyanemias         1177 non-null   int64  \n",
      " 11  depression                1177 non-null   int64  \n",
      " 12  Hyperlipemia              1177 non-null   int64  \n",
      " 13  Renal failure             1177 non-null   int64  \n",
      " 14  COPD                      1177 non-null   int64  \n",
      " 15  heart rate                1164 non-null   float64\n",
      " 16  Systolic blood pressure   1161 non-null   float64\n",
      " 17  Diastolic blood pressure  1161 non-null   float64\n",
      " 18  Respiratory rate          1164 non-null   float64\n",
      " 19  temperature               1158 non-null   float64\n",
      " 20  SP O2                     1164 non-null   float64\n",
      " 21  Urine output              1141 non-null   float64\n",
      " 22  hematocrit                1177 non-null   float64\n",
      " 23  RBC                       1177 non-null   float64\n",
      " 24  MCH                       1177 non-null   float64\n",
      " 25  MCHC                      1177 non-null   float64\n",
      " 26  MCV                       1177 non-null   float64\n",
      " 27  RDW                       1177 non-null   float64\n",
      " 28  Leucocyte                 1177 non-null   float64\n",
      " 29  Platelets                 1177 non-null   float64\n",
      " 30  Neutrophils               1033 non-null   float64\n",
      " 31  Basophils                 918 non-null    float64\n",
      " 32  Lymphocyte                1032 non-null   float64\n",
      " 33  PT                        1157 non-null   float64\n",
      " 34  INR                       1157 non-null   float64\n",
      " 35  NT-proBNP                 1177 non-null   float64\n",
      " 36  Creatine kinase           1012 non-null   float64\n",
      " 37  Creatinine                1177 non-null   float64\n",
      " 38  Urea nitrogen             1177 non-null   float64\n",
      " 39  glucose                   1159 non-null   float64\n",
      " 40  Blood potassium           1177 non-null   float64\n",
      " 41  Blood sodium              1177 non-null   float64\n",
      " 42  Blood calcium             1176 non-null   float64\n",
      " 43  Chloride                  1177 non-null   float64\n",
      " 44  Anion gap                 1177 non-null   float64\n",
      " 45  Magnesium ion             1177 non-null   float64\n",
      " 46  PH                        885 non-null    float64\n",
      " 47  Bicarbonate               1177 non-null   float64\n",
      " 48  Lactic acid               948 non-null    float64\n",
      " 49  PCO2                      883 non-null    float64\n",
      " 50  EF                        1177 non-null   int64  \n",
      "dtypes: float64(36), int32(1), int64(14)\n",
      "memory usage: 464.5 KB\n"
     ]
    }
   ],
   "source": [
    "# Let's check the information of our data to see if the 'outcome' datatype was successfully changed to integer\n",
    "\n",
    "Mortality_data.info()"
   ]
  },
  {
   "cell_type": "code",
   "execution_count": 18,
   "id": "0ac7fee8",
   "metadata": {},
   "outputs": [
    {
     "data": {
      "text/html": [
       "<div>\n",
       "<style scoped>\n",
       "    .dataframe tbody tr th:only-of-type {\n",
       "        vertical-align: middle;\n",
       "    }\n",
       "\n",
       "    .dataframe tbody tr th {\n",
       "        vertical-align: top;\n",
       "    }\n",
       "\n",
       "    .dataframe thead th {\n",
       "        text-align: right;\n",
       "    }\n",
       "</style>\n",
       "<table border=\"1\" class=\"dataframe\">\n",
       "  <thead>\n",
       "    <tr style=\"text-align: right;\">\n",
       "      <th></th>\n",
       "      <th>group</th>\n",
       "      <th>ID</th>\n",
       "      <th>outcome</th>\n",
       "      <th>age</th>\n",
       "      <th>gendera</th>\n",
       "      <th>BMI</th>\n",
       "      <th>hypertensive</th>\n",
       "      <th>atrialfibrillation</th>\n",
       "      <th>CHD with no MI</th>\n",
       "      <th>diabetes</th>\n",
       "      <th>...</th>\n",
       "      <th>Blood sodium</th>\n",
       "      <th>Blood calcium</th>\n",
       "      <th>Chloride</th>\n",
       "      <th>Anion gap</th>\n",
       "      <th>Magnesium ion</th>\n",
       "      <th>PH</th>\n",
       "      <th>Bicarbonate</th>\n",
       "      <th>Lactic acid</th>\n",
       "      <th>PCO2</th>\n",
       "      <th>EF</th>\n",
       "    </tr>\n",
       "  </thead>\n",
       "  <tbody>\n",
       "    <tr>\n",
       "      <th>0</th>\n",
       "      <td>1</td>\n",
       "      <td>125047</td>\n",
       "      <td>0</td>\n",
       "      <td>72</td>\n",
       "      <td>1</td>\n",
       "      <td>37.588179</td>\n",
       "      <td>0</td>\n",
       "      <td>0</td>\n",
       "      <td>0</td>\n",
       "      <td>1</td>\n",
       "      <td>...</td>\n",
       "      <td>138.750000</td>\n",
       "      <td>7.463636</td>\n",
       "      <td>109.166667</td>\n",
       "      <td>13.166667</td>\n",
       "      <td>2.618182</td>\n",
       "      <td>7.230</td>\n",
       "      <td>21.166667</td>\n",
       "      <td>0.5</td>\n",
       "      <td>40.0</td>\n",
       "      <td>55</td>\n",
       "    </tr>\n",
       "    <tr>\n",
       "      <th>1</th>\n",
       "      <td>1</td>\n",
       "      <td>139812</td>\n",
       "      <td>0</td>\n",
       "      <td>75</td>\n",
       "      <td>2</td>\n",
       "      <td>NaN</td>\n",
       "      <td>0</td>\n",
       "      <td>0</td>\n",
       "      <td>0</td>\n",
       "      <td>0</td>\n",
       "      <td>...</td>\n",
       "      <td>138.888889</td>\n",
       "      <td>8.162500</td>\n",
       "      <td>98.444444</td>\n",
       "      <td>11.444444</td>\n",
       "      <td>1.887500</td>\n",
       "      <td>7.225</td>\n",
       "      <td>33.444444</td>\n",
       "      <td>0.5</td>\n",
       "      <td>78.0</td>\n",
       "      <td>55</td>\n",
       "    </tr>\n",
       "    <tr>\n",
       "      <th>2</th>\n",
       "      <td>1</td>\n",
       "      <td>109787</td>\n",
       "      <td>0</td>\n",
       "      <td>83</td>\n",
       "      <td>2</td>\n",
       "      <td>26.572634</td>\n",
       "      <td>0</td>\n",
       "      <td>0</td>\n",
       "      <td>0</td>\n",
       "      <td>0</td>\n",
       "      <td>...</td>\n",
       "      <td>140.714286</td>\n",
       "      <td>8.266667</td>\n",
       "      <td>105.857143</td>\n",
       "      <td>10.000000</td>\n",
       "      <td>2.157143</td>\n",
       "      <td>7.268</td>\n",
       "      <td>30.571429</td>\n",
       "      <td>0.5</td>\n",
       "      <td>71.5</td>\n",
       "      <td>35</td>\n",
       "    </tr>\n",
       "    <tr>\n",
       "      <th>3</th>\n",
       "      <td>1</td>\n",
       "      <td>130587</td>\n",
       "      <td>0</td>\n",
       "      <td>43</td>\n",
       "      <td>2</td>\n",
       "      <td>83.264629</td>\n",
       "      <td>0</td>\n",
       "      <td>0</td>\n",
       "      <td>0</td>\n",
       "      <td>0</td>\n",
       "      <td>...</td>\n",
       "      <td>138.500000</td>\n",
       "      <td>9.476923</td>\n",
       "      <td>92.071429</td>\n",
       "      <td>12.357143</td>\n",
       "      <td>1.942857</td>\n",
       "      <td>7.370</td>\n",
       "      <td>38.571429</td>\n",
       "      <td>0.6</td>\n",
       "      <td>75.0</td>\n",
       "      <td>55</td>\n",
       "    </tr>\n",
       "    <tr>\n",
       "      <th>4</th>\n",
       "      <td>1</td>\n",
       "      <td>138290</td>\n",
       "      <td>0</td>\n",
       "      <td>75</td>\n",
       "      <td>2</td>\n",
       "      <td>31.824842</td>\n",
       "      <td>1</td>\n",
       "      <td>0</td>\n",
       "      <td>0</td>\n",
       "      <td>0</td>\n",
       "      <td>...</td>\n",
       "      <td>136.666667</td>\n",
       "      <td>8.733333</td>\n",
       "      <td>104.500000</td>\n",
       "      <td>15.166667</td>\n",
       "      <td>1.650000</td>\n",
       "      <td>7.250</td>\n",
       "      <td>22.000000</td>\n",
       "      <td>0.6</td>\n",
       "      <td>50.0</td>\n",
       "      <td>55</td>\n",
       "    </tr>\n",
       "  </tbody>\n",
       "</table>\n",
       "<p>5 rows × 51 columns</p>\n",
       "</div>"
      ],
      "text/plain": [
       "   group      ID  outcome  age  gendera        BMI  hypertensive  \\\n",
       "0      1  125047        0   72        1  37.588179             0   \n",
       "1      1  139812        0   75        2        NaN             0   \n",
       "2      1  109787        0   83        2  26.572634             0   \n",
       "3      1  130587        0   43        2  83.264629             0   \n",
       "4      1  138290        0   75        2  31.824842             1   \n",
       "\n",
       "   atrialfibrillation  CHD with no MI  diabetes  ...  Blood sodium  \\\n",
       "0                   0               0         1  ...    138.750000   \n",
       "1                   0               0         0  ...    138.888889   \n",
       "2                   0               0         0  ...    140.714286   \n",
       "3                   0               0         0  ...    138.500000   \n",
       "4                   0               0         0  ...    136.666667   \n",
       "\n",
       "   Blood calcium    Chloride  Anion gap  Magnesium ion     PH  Bicarbonate  \\\n",
       "0       7.463636  109.166667  13.166667       2.618182  7.230    21.166667   \n",
       "1       8.162500   98.444444  11.444444       1.887500  7.225    33.444444   \n",
       "2       8.266667  105.857143  10.000000       2.157143  7.268    30.571429   \n",
       "3       9.476923   92.071429  12.357143       1.942857  7.370    38.571429   \n",
       "4       8.733333  104.500000  15.166667       1.650000  7.250    22.000000   \n",
       "\n",
       "   Lactic acid  PCO2  EF  \n",
       "0          0.5  40.0  55  \n",
       "1          0.5  78.0  55  \n",
       "2          0.5  71.5  35  \n",
       "3          0.6  75.0  55  \n",
       "4          0.6  50.0  55  \n",
       "\n",
       "[5 rows x 51 columns]"
      ]
     },
     "execution_count": 18,
     "metadata": {},
     "output_type": "execute_result"
    }
   ],
   "source": [
    "# Let's preview the first five rows of our data\n",
    "\n",
    "Mortality_data.head()"
   ]
  },
  {
   "cell_type": "code",
   "execution_count": 19,
   "id": "dd9c9c05",
   "metadata": {},
   "outputs": [
    {
     "data": {
      "text/html": [
       "<div>\n",
       "<style scoped>\n",
       "    .dataframe tbody tr th:only-of-type {\n",
       "        vertical-align: middle;\n",
       "    }\n",
       "\n",
       "    .dataframe tbody tr th {\n",
       "        vertical-align: top;\n",
       "    }\n",
       "\n",
       "    .dataframe thead th {\n",
       "        text-align: right;\n",
       "    }\n",
       "</style>\n",
       "<table border=\"1\" class=\"dataframe\">\n",
       "  <thead>\n",
       "    <tr style=\"text-align: right;\">\n",
       "      <th></th>\n",
       "      <th>group</th>\n",
       "      <th>ID</th>\n",
       "      <th>outcome</th>\n",
       "      <th>age</th>\n",
       "      <th>gendera</th>\n",
       "      <th>BMI</th>\n",
       "      <th>hypertensive</th>\n",
       "      <th>atrialfibrillation</th>\n",
       "      <th>CHD with no MI</th>\n",
       "      <th>diabetes</th>\n",
       "      <th>...</th>\n",
       "      <th>Blood sodium</th>\n",
       "      <th>Blood calcium</th>\n",
       "      <th>Chloride</th>\n",
       "      <th>Anion gap</th>\n",
       "      <th>Magnesium ion</th>\n",
       "      <th>PH</th>\n",
       "      <th>Bicarbonate</th>\n",
       "      <th>Lactic acid</th>\n",
       "      <th>PCO2</th>\n",
       "      <th>EF</th>\n",
       "    </tr>\n",
       "  </thead>\n",
       "  <tbody>\n",
       "    <tr>\n",
       "      <th>1172</th>\n",
       "      <td>2</td>\n",
       "      <td>171130</td>\n",
       "      <td>0</td>\n",
       "      <td>62</td>\n",
       "      <td>1</td>\n",
       "      <td>25.516870</td>\n",
       "      <td>1</td>\n",
       "      <td>1</td>\n",
       "      <td>0</td>\n",
       "      <td>1</td>\n",
       "      <td>...</td>\n",
       "      <td>136.714286</td>\n",
       "      <td>10.271429</td>\n",
       "      <td>94.428571</td>\n",
       "      <td>20.142857</td>\n",
       "      <td>2.714286</td>\n",
       "      <td>NaN</td>\n",
       "      <td>27.714286</td>\n",
       "      <td>NaN</td>\n",
       "      <td>NaN</td>\n",
       "      <td>40</td>\n",
       "    </tr>\n",
       "    <tr>\n",
       "      <th>1173</th>\n",
       "      <td>2</td>\n",
       "      <td>101659</td>\n",
       "      <td>0</td>\n",
       "      <td>78</td>\n",
       "      <td>1</td>\n",
       "      <td>25.822710</td>\n",
       "      <td>0</td>\n",
       "      <td>1</td>\n",
       "      <td>0</td>\n",
       "      <td>1</td>\n",
       "      <td>...</td>\n",
       "      <td>135.680000</td>\n",
       "      <td>10.523529</td>\n",
       "      <td>101.720000</td>\n",
       "      <td>18.160000</td>\n",
       "      <td>2.012500</td>\n",
       "      <td>NaN</td>\n",
       "      <td>20.480000</td>\n",
       "      <td>NaN</td>\n",
       "      <td>NaN</td>\n",
       "      <td>30</td>\n",
       "    </tr>\n",
       "    <tr>\n",
       "      <th>1174</th>\n",
       "      <td>2</td>\n",
       "      <td>162069</td>\n",
       "      <td>0</td>\n",
       "      <td>85</td>\n",
       "      <td>2</td>\n",
       "      <td>23.891779</td>\n",
       "      <td>1</td>\n",
       "      <td>1</td>\n",
       "      <td>0</td>\n",
       "      <td>1</td>\n",
       "      <td>...</td>\n",
       "      <td>136.000000</td>\n",
       "      <td>8.466667</td>\n",
       "      <td>97.285714</td>\n",
       "      <td>14.000000</td>\n",
       "      <td>2.028571</td>\n",
       "      <td>NaN</td>\n",
       "      <td>28.857143</td>\n",
       "      <td>NaN</td>\n",
       "      <td>NaN</td>\n",
       "      <td>55</td>\n",
       "    </tr>\n",
       "    <tr>\n",
       "      <th>1175</th>\n",
       "      <td>2</td>\n",
       "      <td>120967</td>\n",
       "      <td>0</td>\n",
       "      <td>79</td>\n",
       "      <td>2</td>\n",
       "      <td>35.288554</td>\n",
       "      <td>0</td>\n",
       "      <td>0</td>\n",
       "      <td>1</td>\n",
       "      <td>1</td>\n",
       "      <td>...</td>\n",
       "      <td>140.000000</td>\n",
       "      <td>8.183333</td>\n",
       "      <td>104.000000</td>\n",
       "      <td>15.750000</td>\n",
       "      <td>2.090000</td>\n",
       "      <td>NaN</td>\n",
       "      <td>24.375000</td>\n",
       "      <td>NaN</td>\n",
       "      <td>NaN</td>\n",
       "      <td>25</td>\n",
       "    </tr>\n",
       "    <tr>\n",
       "      <th>1176</th>\n",
       "      <td>2</td>\n",
       "      <td>107636</td>\n",
       "      <td>0</td>\n",
       "      <td>47</td>\n",
       "      <td>1</td>\n",
       "      <td>23.121384</td>\n",
       "      <td>1</td>\n",
       "      <td>0</td>\n",
       "      <td>0</td>\n",
       "      <td>1</td>\n",
       "      <td>...</td>\n",
       "      <td>135.285714</td>\n",
       "      <td>9.085714</td>\n",
       "      <td>93.857143</td>\n",
       "      <td>20.285714</td>\n",
       "      <td>2.566667</td>\n",
       "      <td>NaN</td>\n",
       "      <td>26.571429</td>\n",
       "      <td>NaN</td>\n",
       "      <td>NaN</td>\n",
       "      <td>55</td>\n",
       "    </tr>\n",
       "  </tbody>\n",
       "</table>\n",
       "<p>5 rows × 51 columns</p>\n",
       "</div>"
      ],
      "text/plain": [
       "      group      ID  outcome  age  gendera        BMI  hypertensive  \\\n",
       "1172      2  171130        0   62        1  25.516870             1   \n",
       "1173      2  101659        0   78        1  25.822710             0   \n",
       "1174      2  162069        0   85        2  23.891779             1   \n",
       "1175      2  120967        0   79        2  35.288554             0   \n",
       "1176      2  107636        0   47        1  23.121384             1   \n",
       "\n",
       "      atrialfibrillation  CHD with no MI  diabetes  ...  Blood sodium  \\\n",
       "1172                   1               0         1  ...    136.714286   \n",
       "1173                   1               0         1  ...    135.680000   \n",
       "1174                   1               0         1  ...    136.000000   \n",
       "1175                   0               1         1  ...    140.000000   \n",
       "1176                   0               0         1  ...    135.285714   \n",
       "\n",
       "      Blood calcium    Chloride  Anion gap  Magnesium ion  PH  Bicarbonate  \\\n",
       "1172      10.271429   94.428571  20.142857       2.714286 NaN    27.714286   \n",
       "1173      10.523529  101.720000  18.160000       2.012500 NaN    20.480000   \n",
       "1174       8.466667   97.285714  14.000000       2.028571 NaN    28.857143   \n",
       "1175       8.183333  104.000000  15.750000       2.090000 NaN    24.375000   \n",
       "1176       9.085714   93.857143  20.285714       2.566667 NaN    26.571429   \n",
       "\n",
       "      Lactic acid  PCO2  EF  \n",
       "1172          NaN   NaN  40  \n",
       "1173          NaN   NaN  30  \n",
       "1174          NaN   NaN  55  \n",
       "1175          NaN   NaN  25  \n",
       "1176          NaN   NaN  55  \n",
       "\n",
       "[5 rows x 51 columns]"
      ]
     },
     "execution_count": 19,
     "metadata": {},
     "output_type": "execute_result"
    }
   ],
   "source": [
    "# Let's preview the last five rows of our data\n",
    "\n",
    "Mortality_data.tail()"
   ]
  },
  {
   "cell_type": "code",
   "execution_count": 20,
   "id": "5611b5ad",
   "metadata": {},
   "outputs": [
    {
     "data": {
      "text/plain": [
       "30.18827765159043"
      ]
     },
     "execution_count": 20,
     "metadata": {},
     "output_type": "execute_result"
    }
   ],
   "source": [
    "# Let's find the mean value of 'BMI' column\n",
    "\n",
    "Mortality_data['BMI'].mean()"
   ]
  },
  {
   "cell_type": "code",
   "execution_count": 21,
   "id": "fc051855",
   "metadata": {},
   "outputs": [],
   "source": [
    "# Filling the missing values in 'BMI' column with 'Mean' value\n",
    "\n",
    "Mortality_data['BMI'].fillna(Mortality_data['BMI'].mean(), inplace = True)"
   ]
  },
  {
   "cell_type": "code",
   "execution_count": 22,
   "id": "315abac1",
   "metadata": {},
   "outputs": [
    {
     "data": {
      "text/plain": [
       "84.57584840750846"
      ]
     },
     "execution_count": 22,
     "metadata": {},
     "output_type": "execute_result"
    }
   ],
   "source": [
    "# Let's find the mean value of 'heart rate' column\n",
    "\n",
    "Mortality_data['heart rate'].mean()"
   ]
  },
  {
   "cell_type": "code",
   "execution_count": 23,
   "id": "0108ec96",
   "metadata": {},
   "outputs": [],
   "source": [
    "# Filling the missing values in 'heart rate' column with 'Mean' value\n",
    "\n",
    "Mortality_data['heart rate'].fillna(Mortality_data['heart rate'].mean(), inplace = True)"
   ]
  },
  {
   "cell_type": "code",
   "execution_count": 24,
   "id": "22e92965",
   "metadata": {},
   "outputs": [
    {
     "data": {
      "text/plain": [
       "117.99503522048246"
      ]
     },
     "execution_count": 24,
     "metadata": {},
     "output_type": "execute_result"
    }
   ],
   "source": [
    "# Let's find the mean value of 'Systolic blood pressure' column\n",
    "\n",
    "Mortality_data['Systolic blood pressure'].mean()"
   ]
  },
  {
   "cell_type": "code",
   "execution_count": 25,
   "id": "b07093a0",
   "metadata": {},
   "outputs": [],
   "source": [
    "# Filling the missing values in 'Systolic blood pressure' column with 'Mean' value\n",
    "\n",
    "Mortality_data['Systolic blood pressure'].fillna(Mortality_data['Systolic blood pressure'].mean(), inplace = True)"
   ]
  },
  {
   "cell_type": "code",
   "execution_count": 26,
   "id": "829179d6",
   "metadata": {},
   "outputs": [
    {
     "data": {
      "text/plain": [
       "59.53449655225665"
      ]
     },
     "execution_count": 26,
     "metadata": {},
     "output_type": "execute_result"
    }
   ],
   "source": [
    "# Let's find the mean value of 'Diastolic blood pressure' column\n",
    "\n",
    "Mortality_data['Diastolic blood pressure'].mean()"
   ]
  },
  {
   "cell_type": "code",
   "execution_count": 27,
   "id": "c3fab825",
   "metadata": {},
   "outputs": [],
   "source": [
    "# Filling the missing values in 'Diastolic blood pressure' column with 'Mean' value\n",
    "\n",
    "Mortality_data['Diastolic blood pressure'].fillna(Mortality_data['Diastolic blood pressure'].mean(), inplace = True)"
   ]
  },
  {
   "cell_type": "code",
   "execution_count": 28,
   "id": "1079d1e0",
   "metadata": {},
   "outputs": [
    {
     "data": {
      "text/plain": [
       "20.801511481503425"
      ]
     },
     "execution_count": 28,
     "metadata": {},
     "output_type": "execute_result"
    }
   ],
   "source": [
    "# Let's find the mean value of 'Respiratory rate' column\n",
    "\n",
    "Mortality_data['Respiratory rate'].mean()"
   ]
  },
  {
   "cell_type": "code",
   "execution_count": 29,
   "id": "1712dc36",
   "metadata": {},
   "outputs": [],
   "source": [
    "# Filling the missing values in 'Respiratory rate' column with 'Mean' value\n",
    "\n",
    "Mortality_data['Respiratory rate'].fillna(Mortality_data['Respiratory rate'].mean(), inplace = True)"
   ]
  },
  {
   "cell_type": "code",
   "execution_count": 30,
   "id": "42ae8b6d",
   "metadata": {},
   "outputs": [
    {
     "data": {
      "text/plain": [
       "36.67728595220208"
      ]
     },
     "execution_count": 30,
     "metadata": {},
     "output_type": "execute_result"
    }
   ],
   "source": [
    "# Let's find the mean value of 'temperature' column\n",
    "\n",
    "Mortality_data['temperature'].mean()"
   ]
  },
  {
   "cell_type": "code",
   "execution_count": 31,
   "id": "6b0632a3",
   "metadata": {},
   "outputs": [],
   "source": [
    "# Filling the missing values in 'temperature' column with 'Mean' value\n",
    "\n",
    "Mortality_data['temperature'].fillna(Mortality_data['temperature'].mean(), inplace = True)"
   ]
  },
  {
   "cell_type": "code",
   "execution_count": 32,
   "id": "fe92705a",
   "metadata": {},
   "outputs": [
    {
     "data": {
      "text/plain": [
       "96.27290043504303"
      ]
     },
     "execution_count": 32,
     "metadata": {},
     "output_type": "execute_result"
    }
   ],
   "source": [
    "# Let's find the mean value of 'SP O2' column\n",
    "\n",
    "Mortality_data['SP O2'].mean()"
   ]
  },
  {
   "cell_type": "code",
   "execution_count": 33,
   "id": "70433b8b",
   "metadata": {},
   "outputs": [],
   "source": [
    "# Filling the missing values in 'SP 02' column with 'Mean' value\n",
    "\n",
    "Mortality_data['SP O2'].fillna(Mortality_data['SP O2'].mean(), inplace = True)"
   ]
  },
  {
   "cell_type": "code",
   "execution_count": 34,
   "id": "b1079bc8",
   "metadata": {},
   "outputs": [
    {
     "data": {
      "text/plain": [
       "1899.2765118317266"
      ]
     },
     "execution_count": 34,
     "metadata": {},
     "output_type": "execute_result"
    }
   ],
   "source": [
    "# Let's find the mean value of 'Urine output' column\n",
    "\n",
    "Mortality_data['Urine output'].mean()"
   ]
  },
  {
   "cell_type": "code",
   "execution_count": 35,
   "id": "0d773c3b",
   "metadata": {},
   "outputs": [],
   "source": [
    "# Filling the missing values in 'Urine output' column with 'Mean' value\n",
    "\n",
    "Mortality_data['Urine output'].fillna(Mortality_data['Urine output'].mean(), inplace = True)"
   ]
  },
  {
   "cell_type": "code",
   "execution_count": 36,
   "id": "7b473cd8",
   "metadata": {},
   "outputs": [
    {
     "data": {
      "text/plain": [
       "80.11354430419172"
      ]
     },
     "execution_count": 36,
     "metadata": {},
     "output_type": "execute_result"
    }
   ],
   "source": [
    "# Let's find the mean value of 'Neutrophils' column\n",
    "\n",
    "Mortality_data['Neutrophils'].mean()"
   ]
  },
  {
   "cell_type": "code",
   "execution_count": 37,
   "id": "37326092",
   "metadata": {},
   "outputs": [],
   "source": [
    "# Filling the missing values in 'Neutrophils' column with 'Mean' value\n",
    "\n",
    "Mortality_data['Neutrophils'].fillna(Mortality_data['Neutrophils'].mean(), inplace = True)"
   ]
  },
  {
   "cell_type": "code",
   "execution_count": 38,
   "id": "17fa3d52",
   "metadata": {},
   "outputs": [
    {
     "data": {
      "text/plain": [
       "0.4055694314716784"
      ]
     },
     "execution_count": 38,
     "metadata": {},
     "output_type": "execute_result"
    }
   ],
   "source": [
    "# Let's find the mean value of 'Basophils' column\n",
    "\n",
    "Mortality_data['Basophils'].mean()"
   ]
  },
  {
   "cell_type": "code",
   "execution_count": 39,
   "id": "264a692e",
   "metadata": {},
   "outputs": [],
   "source": [
    "# Filling the missing values in 'Basophils' column with 'Mean' value\n",
    "\n",
    "Mortality_data['Basophils'].fillna(Mortality_data['Basophils'].mean(), inplace = True)"
   ]
  },
  {
   "cell_type": "code",
   "execution_count": 40,
   "id": "f0a0fcab",
   "metadata": {},
   "outputs": [
    {
     "data": {
      "text/plain": [
       "12.233024294061039"
      ]
     },
     "execution_count": 40,
     "metadata": {},
     "output_type": "execute_result"
    }
   ],
   "source": [
    "# Let's find the mean value of 'Lymphocyte' column\n",
    "\n",
    "Mortality_data['Lymphocyte'].mean()"
   ]
  },
  {
   "cell_type": "code",
   "execution_count": 41,
   "id": "8d8ccd85",
   "metadata": {},
   "outputs": [],
   "source": [
    "# Filling the missing values in 'Lymphocyte' column with 'Mean' value\n",
    "\n",
    "Mortality_data['Lymphocyte'].fillna(Mortality_data['Lymphocyte'].mean(), inplace = True)"
   ]
  },
  {
   "cell_type": "code",
   "execution_count": 42,
   "id": "7653c5fe",
   "metadata": {},
   "outputs": [
    {
     "data": {
      "text/plain": [
       "17.481057149161625"
      ]
     },
     "execution_count": 42,
     "metadata": {},
     "output_type": "execute_result"
    }
   ],
   "source": [
    "# Let's find the mean value of 'PT' column\n",
    "\n",
    "Mortality_data['PT'].mean()"
   ]
  },
  {
   "cell_type": "code",
   "execution_count": 43,
   "id": "727163db",
   "metadata": {},
   "outputs": [],
   "source": [
    "# Filling the missing values in 'PT' column with 'Mean' value\n",
    "\n",
    "Mortality_data['PT'].fillna(Mortality_data['PT'].mean(), inplace = True)"
   ]
  },
  {
   "cell_type": "code",
   "execution_count": 44,
   "id": "9021ab1b",
   "metadata": {},
   "outputs": [
    {
     "data": {
      "text/plain": [
       "1.625464983596369"
      ]
     },
     "execution_count": 44,
     "metadata": {},
     "output_type": "execute_result"
    }
   ],
   "source": [
    "# Let's find the mean value of 'INR' column\n",
    "\n",
    "Mortality_data['INR'].mean()"
   ]
  },
  {
   "cell_type": "code",
   "execution_count": 45,
   "id": "1ff367b4",
   "metadata": {},
   "outputs": [],
   "source": [
    "# Filling the missing values in 'INR' column with 'Mean' value\n",
    "\n",
    "Mortality_data['INR'].fillna(Mortality_data['INR'].mean(), inplace = True)"
   ]
  },
  {
   "cell_type": "code",
   "execution_count": 46,
   "id": "3af5357d",
   "metadata": {},
   "outputs": [
    {
     "data": {
      "text/plain": [
       "246.7784560746935"
      ]
     },
     "execution_count": 46,
     "metadata": {},
     "output_type": "execute_result"
    }
   ],
   "source": [
    "# Let's find the mean value of 'Creatine kinase' column\n",
    "\n",
    "Mortality_data['Creatine kinase'].mean()"
   ]
  },
  {
   "cell_type": "code",
   "execution_count": 47,
   "id": "caf5e534",
   "metadata": {},
   "outputs": [],
   "source": [
    "# Filling the missing values in 'Creatine kinase' column with 'Mean' value\n",
    "\n",
    "Mortality_data['Creatine kinase'].fillna(Mortality_data['Creatine kinase'].mean(), inplace = True)"
   ]
  },
  {
   "cell_type": "code",
   "execution_count": 48,
   "id": "6138790f",
   "metadata": {},
   "outputs": [
    {
     "data": {
      "text/plain": [
       "148.79653094522868"
      ]
     },
     "execution_count": 48,
     "metadata": {},
     "output_type": "execute_result"
    }
   ],
   "source": [
    "# Let's find the mean value of 'glucose' column\n",
    "\n",
    "Mortality_data['glucose'].mean()"
   ]
  },
  {
   "cell_type": "code",
   "execution_count": 49,
   "id": "961515a6",
   "metadata": {},
   "outputs": [],
   "source": [
    "# Filling the missing values in 'glucose' column with 'Mean' value\n",
    "\n",
    "Mortality_data['glucose'].fillna(Mortality_data['glucose'].mean(), inplace = True)"
   ]
  },
  {
   "cell_type": "code",
   "execution_count": 50,
   "id": "5379d19f",
   "metadata": {},
   "outputs": [
    {
     "data": {
      "text/plain": [
       "8.500894160843536"
      ]
     },
     "execution_count": 50,
     "metadata": {},
     "output_type": "execute_result"
    }
   ],
   "source": [
    "# Let's find the mean value of 'Blood calcium' column\n",
    "\n",
    "Mortality_data['Blood calcium'].mean()"
   ]
  },
  {
   "cell_type": "code",
   "execution_count": 51,
   "id": "434d0a9d",
   "metadata": {},
   "outputs": [],
   "source": [
    "# Filling the missing values in 'Blood calcium' column with 'Mean' value\n",
    "\n",
    "Mortality_data['Blood calcium'].fillna(Mortality_data['Blood calcium'].mean(), inplace = True)"
   ]
  },
  {
   "cell_type": "code",
   "execution_count": 52,
   "id": "cc974dcc",
   "metadata": {},
   "outputs": [
    {
     "data": {
      "text/plain": [
       "7.378532073776262"
      ]
     },
     "execution_count": 52,
     "metadata": {},
     "output_type": "execute_result"
    }
   ],
   "source": [
    "# Let's find the mean value of 'PH' column\n",
    "\n",
    "Mortality_data['PH'].mean()"
   ]
  },
  {
   "cell_type": "code",
   "execution_count": 53,
   "id": "d956a34f",
   "metadata": {},
   "outputs": [],
   "source": [
    "# Filling the missing values in 'PH' column with 'Mean' value\n",
    "\n",
    "Mortality_data['PH'].fillna(Mortality_data['PH'].mean(), inplace = True)"
   ]
  },
  {
   "cell_type": "code",
   "execution_count": 54,
   "id": "25a83c5e",
   "metadata": {},
   "outputs": [
    {
     "data": {
      "text/plain": [
       "1.8534255697974666"
      ]
     },
     "execution_count": 54,
     "metadata": {},
     "output_type": "execute_result"
    }
   ],
   "source": [
    "# Let's find the mean value of 'Lactic acid' column\n",
    "\n",
    "Mortality_data['Lactic acid'].mean()"
   ]
  },
  {
   "cell_type": "code",
   "execution_count": 55,
   "id": "8cc90652",
   "metadata": {},
   "outputs": [],
   "source": [
    "# Filling the missing values in 'Lactic acid' column with 'Mean' value\n",
    "\n",
    "Mortality_data['Lactic acid'].fillna(Mortality_data['Lactic acid'].mean(), inplace = True)"
   ]
  },
  {
   "cell_type": "code",
   "execution_count": 56,
   "id": "11b310c6",
   "metadata": {},
   "outputs": [
    {
     "data": {
      "text/plain": [
       "45.53538235441683"
      ]
     },
     "execution_count": 56,
     "metadata": {},
     "output_type": "execute_result"
    }
   ],
   "source": [
    "# Let's find the mean value of 'PCO2' column\n",
    "\n",
    "Mortality_data['PCO2'].mean()"
   ]
  },
  {
   "cell_type": "code",
   "execution_count": 57,
   "id": "b3317911",
   "metadata": {},
   "outputs": [],
   "source": [
    "# Filling the missing values in 'PCO2' column with 'Mean' value\n",
    "\n",
    "Mortality_data['PCO2'].fillna(Mortality_data['PCO2'].mean(), inplace = True)"
   ]
  },
  {
   "cell_type": "code",
   "execution_count": 58,
   "id": "a74694bd",
   "metadata": {},
   "outputs": [
    {
     "data": {
      "text/plain": [
       "group                       0\n",
       "ID                          0\n",
       "outcome                     0\n",
       "age                         0\n",
       "gendera                     0\n",
       "BMI                         0\n",
       "hypertensive                0\n",
       "atrialfibrillation          0\n",
       "CHD with no MI              0\n",
       "diabetes                    0\n",
       "deficiencyanemias           0\n",
       "depression                  0\n",
       "Hyperlipemia                0\n",
       "Renal failure               0\n",
       "COPD                        0\n",
       "heart rate                  0\n",
       "Systolic blood pressure     0\n",
       "Diastolic blood pressure    0\n",
       "Respiratory rate            0\n",
       "temperature                 0\n",
       "SP O2                       0\n",
       "Urine output                0\n",
       "hematocrit                  0\n",
       "RBC                         0\n",
       "MCH                         0\n",
       "MCHC                        0\n",
       "MCV                         0\n",
       "RDW                         0\n",
       "Leucocyte                   0\n",
       "Platelets                   0\n",
       "Neutrophils                 0\n",
       "Basophils                   0\n",
       "Lymphocyte                  0\n",
       "PT                          0\n",
       "INR                         0\n",
       "NT-proBNP                   0\n",
       "Creatine kinase             0\n",
       "Creatinine                  0\n",
       "Urea nitrogen               0\n",
       "glucose                     0\n",
       "Blood potassium             0\n",
       "Blood sodium                0\n",
       "Blood calcium               0\n",
       "Chloride                    0\n",
       "Anion gap                   0\n",
       "Magnesium ion               0\n",
       "PH                          0\n",
       "Bicarbonate                 0\n",
       "Lactic acid                 0\n",
       "PCO2                        0\n",
       "EF                          0\n",
       "dtype: int64"
      ]
     },
     "execution_count": 58,
     "metadata": {},
     "output_type": "execute_result"
    }
   ],
   "source": [
    "# Let's checK if there are missing values in this data after filling it with mean values\n",
    "\n",
    "Mortality_data.isnull().sum()"
   ]
  },
  {
   "cell_type": "code",
   "execution_count": 59,
   "id": "9811d567",
   "metadata": {},
   "outputs": [
    {
     "data": {
      "text/plain": [
       "(1177, 51)"
      ]
     },
     "execution_count": 59,
     "metadata": {},
     "output_type": "execute_result"
    }
   ],
   "source": [
    "# Let's still check the number of rows and columns of the data\n",
    "\n",
    "Mortality_data.shape"
   ]
  },
  {
   "cell_type": "markdown",
   "id": "cc9fa3eb",
   "metadata": {},
   "source": [
    "# Data Analysis"
   ]
  },
  {
   "cell_type": "code",
   "execution_count": 60,
   "id": "f29d309d",
   "metadata": {},
   "outputs": [
    {
     "data": {
      "text/html": [
       "<div>\n",
       "<style scoped>\n",
       "    .dataframe tbody tr th:only-of-type {\n",
       "        vertical-align: middle;\n",
       "    }\n",
       "\n",
       "    .dataframe tbody tr th {\n",
       "        vertical-align: top;\n",
       "    }\n",
       "\n",
       "    .dataframe thead th {\n",
       "        text-align: right;\n",
       "    }\n",
       "</style>\n",
       "<table border=\"1\" class=\"dataframe\">\n",
       "  <thead>\n",
       "    <tr style=\"text-align: right;\">\n",
       "      <th></th>\n",
       "      <th>group</th>\n",
       "      <th>ID</th>\n",
       "      <th>outcome</th>\n",
       "      <th>age</th>\n",
       "      <th>gendera</th>\n",
       "      <th>BMI</th>\n",
       "      <th>hypertensive</th>\n",
       "      <th>atrialfibrillation</th>\n",
       "      <th>CHD with no MI</th>\n",
       "      <th>diabetes</th>\n",
       "      <th>...</th>\n",
       "      <th>Blood sodium</th>\n",
       "      <th>Blood calcium</th>\n",
       "      <th>Chloride</th>\n",
       "      <th>Anion gap</th>\n",
       "      <th>Magnesium ion</th>\n",
       "      <th>PH</th>\n",
       "      <th>Bicarbonate</th>\n",
       "      <th>Lactic acid</th>\n",
       "      <th>PCO2</th>\n",
       "      <th>EF</th>\n",
       "    </tr>\n",
       "  </thead>\n",
       "  <tbody>\n",
       "    <tr>\n",
       "      <th>count</th>\n",
       "      <td>1177.000000</td>\n",
       "      <td>1177.000000</td>\n",
       "      <td>1177.000000</td>\n",
       "      <td>1177.000000</td>\n",
       "      <td>1177.000000</td>\n",
       "      <td>1177.000000</td>\n",
       "      <td>1177.000000</td>\n",
       "      <td>1177.000000</td>\n",
       "      <td>1177.000000</td>\n",
       "      <td>1177.000000</td>\n",
       "      <td>...</td>\n",
       "      <td>1177.000000</td>\n",
       "      <td>1177.000000</td>\n",
       "      <td>1177.000000</td>\n",
       "      <td>1177.000000</td>\n",
       "      <td>1177.000000</td>\n",
       "      <td>1177.000000</td>\n",
       "      <td>1177.000000</td>\n",
       "      <td>1177.000000</td>\n",
       "      <td>1177.000000</td>\n",
       "      <td>1177.000000</td>\n",
       "    </tr>\n",
       "    <tr>\n",
       "      <th>mean</th>\n",
       "      <td>1.299065</td>\n",
       "      <td>150778.120646</td>\n",
       "      <td>0.135089</td>\n",
       "      <td>74.055225</td>\n",
       "      <td>1.525064</td>\n",
       "      <td>30.188278</td>\n",
       "      <td>0.717927</td>\n",
       "      <td>0.451147</td>\n",
       "      <td>0.085811</td>\n",
       "      <td>0.421410</td>\n",
       "      <td>...</td>\n",
       "      <td>138.890016</td>\n",
       "      <td>8.500894</td>\n",
       "      <td>102.283835</td>\n",
       "      <td>13.925094</td>\n",
       "      <td>2.120169</td>\n",
       "      <td>7.378532</td>\n",
       "      <td>26.911766</td>\n",
       "      <td>1.853426</td>\n",
       "      <td>45.535382</td>\n",
       "      <td>48.715378</td>\n",
       "    </tr>\n",
       "    <tr>\n",
       "      <th>std</th>\n",
       "      <td>0.458043</td>\n",
       "      <td>29034.669513</td>\n",
       "      <td>0.341964</td>\n",
       "      <td>13.434061</td>\n",
       "      <td>0.499584</td>\n",
       "      <td>8.430500</td>\n",
       "      <td>0.450200</td>\n",
       "      <td>0.497819</td>\n",
       "      <td>0.280204</td>\n",
       "      <td>0.493995</td>\n",
       "      <td>...</td>\n",
       "      <td>4.151347</td>\n",
       "      <td>0.572019</td>\n",
       "      <td>5.339733</td>\n",
       "      <td>2.652732</td>\n",
       "      <td>0.251532</td>\n",
       "      <td>0.058367</td>\n",
       "      <td>5.167512</td>\n",
       "      <td>0.882849</td>\n",
       "      <td>11.008284</td>\n",
       "      <td>12.868436</td>\n",
       "    </tr>\n",
       "    <tr>\n",
       "      <th>min</th>\n",
       "      <td>1.000000</td>\n",
       "      <td>100213.000000</td>\n",
       "      <td>0.000000</td>\n",
       "      <td>19.000000</td>\n",
       "      <td>1.000000</td>\n",
       "      <td>13.346801</td>\n",
       "      <td>0.000000</td>\n",
       "      <td>0.000000</td>\n",
       "      <td>0.000000</td>\n",
       "      <td>0.000000</td>\n",
       "      <td>...</td>\n",
       "      <td>114.666667</td>\n",
       "      <td>6.700000</td>\n",
       "      <td>80.266667</td>\n",
       "      <td>6.636364</td>\n",
       "      <td>1.400000</td>\n",
       "      <td>7.090000</td>\n",
       "      <td>12.857143</td>\n",
       "      <td>0.500000</td>\n",
       "      <td>18.750000</td>\n",
       "      <td>15.000000</td>\n",
       "    </tr>\n",
       "    <tr>\n",
       "      <th>25%</th>\n",
       "      <td>1.000000</td>\n",
       "      <td>125603.000000</td>\n",
       "      <td>0.000000</td>\n",
       "      <td>65.000000</td>\n",
       "      <td>1.000000</td>\n",
       "      <td>25.276974</td>\n",
       "      <td>0.000000</td>\n",
       "      <td>0.000000</td>\n",
       "      <td>0.000000</td>\n",
       "      <td>0.000000</td>\n",
       "      <td>...</td>\n",
       "      <td>136.666667</td>\n",
       "      <td>8.150000</td>\n",
       "      <td>99.000000</td>\n",
       "      <td>12.250000</td>\n",
       "      <td>1.955556</td>\n",
       "      <td>7.350000</td>\n",
       "      <td>23.454545</td>\n",
       "      <td>1.300000</td>\n",
       "      <td>39.000000</td>\n",
       "      <td>40.000000</td>\n",
       "    </tr>\n",
       "    <tr>\n",
       "      <th>50%</th>\n",
       "      <td>1.000000</td>\n",
       "      <td>151901.000000</td>\n",
       "      <td>0.000000</td>\n",
       "      <td>77.000000</td>\n",
       "      <td>2.000000</td>\n",
       "      <td>30.188278</td>\n",
       "      <td>1.000000</td>\n",
       "      <td>0.000000</td>\n",
       "      <td>0.000000</td>\n",
       "      <td>0.000000</td>\n",
       "      <td>...</td>\n",
       "      <td>139.250000</td>\n",
       "      <td>8.500000</td>\n",
       "      <td>102.500000</td>\n",
       "      <td>13.666667</td>\n",
       "      <td>2.092308</td>\n",
       "      <td>7.378532</td>\n",
       "      <td>26.500000</td>\n",
       "      <td>1.833333</td>\n",
       "      <td>45.535382</td>\n",
       "      <td>55.000000</td>\n",
       "    </tr>\n",
       "    <tr>\n",
       "      <th>75%</th>\n",
       "      <td>2.000000</td>\n",
       "      <td>176048.000000</td>\n",
       "      <td>0.000000</td>\n",
       "      <td>85.000000</td>\n",
       "      <td>2.000000</td>\n",
       "      <td>32.101349</td>\n",
       "      <td>1.000000</td>\n",
       "      <td>1.000000</td>\n",
       "      <td>0.000000</td>\n",
       "      <td>1.000000</td>\n",
       "      <td>...</td>\n",
       "      <td>141.600000</td>\n",
       "      <td>8.868750</td>\n",
       "      <td>105.571429</td>\n",
       "      <td>15.416667</td>\n",
       "      <td>2.241667</td>\n",
       "      <td>7.410000</td>\n",
       "      <td>29.875000</td>\n",
       "      <td>2.000000</td>\n",
       "      <td>47.272727</td>\n",
       "      <td>55.000000</td>\n",
       "    </tr>\n",
       "    <tr>\n",
       "      <th>max</th>\n",
       "      <td>2.000000</td>\n",
       "      <td>199952.000000</td>\n",
       "      <td>1.000000</td>\n",
       "      <td>99.000000</td>\n",
       "      <td>2.000000</td>\n",
       "      <td>104.970366</td>\n",
       "      <td>1.000000</td>\n",
       "      <td>1.000000</td>\n",
       "      <td>1.000000</td>\n",
       "      <td>1.000000</td>\n",
       "      <td>...</td>\n",
       "      <td>154.736842</td>\n",
       "      <td>10.950000</td>\n",
       "      <td>122.526316</td>\n",
       "      <td>25.500000</td>\n",
       "      <td>4.072727</td>\n",
       "      <td>7.580000</td>\n",
       "      <td>47.666667</td>\n",
       "      <td>8.333333</td>\n",
       "      <td>98.600000</td>\n",
       "      <td>75.000000</td>\n",
       "    </tr>\n",
       "  </tbody>\n",
       "</table>\n",
       "<p>8 rows × 51 columns</p>\n",
       "</div>"
      ],
      "text/plain": [
       "             group             ID      outcome          age      gendera  \\\n",
       "count  1177.000000    1177.000000  1177.000000  1177.000000  1177.000000   \n",
       "mean      1.299065  150778.120646     0.135089    74.055225     1.525064   \n",
       "std       0.458043   29034.669513     0.341964    13.434061     0.499584   \n",
       "min       1.000000  100213.000000     0.000000    19.000000     1.000000   \n",
       "25%       1.000000  125603.000000     0.000000    65.000000     1.000000   \n",
       "50%       1.000000  151901.000000     0.000000    77.000000     2.000000   \n",
       "75%       2.000000  176048.000000     0.000000    85.000000     2.000000   \n",
       "max       2.000000  199952.000000     1.000000    99.000000     2.000000   \n",
       "\n",
       "               BMI  hypertensive  atrialfibrillation  CHD with no MI  \\\n",
       "count  1177.000000   1177.000000         1177.000000     1177.000000   \n",
       "mean     30.188278      0.717927            0.451147        0.085811   \n",
       "std       8.430500      0.450200            0.497819        0.280204   \n",
       "min      13.346801      0.000000            0.000000        0.000000   \n",
       "25%      25.276974      0.000000            0.000000        0.000000   \n",
       "50%      30.188278      1.000000            0.000000        0.000000   \n",
       "75%      32.101349      1.000000            1.000000        0.000000   \n",
       "max     104.970366      1.000000            1.000000        1.000000   \n",
       "\n",
       "          diabetes  ...  Blood sodium  Blood calcium     Chloride  \\\n",
       "count  1177.000000  ...   1177.000000    1177.000000  1177.000000   \n",
       "mean      0.421410  ...    138.890016       8.500894   102.283835   \n",
       "std       0.493995  ...      4.151347       0.572019     5.339733   \n",
       "min       0.000000  ...    114.666667       6.700000    80.266667   \n",
       "25%       0.000000  ...    136.666667       8.150000    99.000000   \n",
       "50%       0.000000  ...    139.250000       8.500000   102.500000   \n",
       "75%       1.000000  ...    141.600000       8.868750   105.571429   \n",
       "max       1.000000  ...    154.736842      10.950000   122.526316   \n",
       "\n",
       "         Anion gap  Magnesium ion           PH  Bicarbonate  Lactic acid  \\\n",
       "count  1177.000000    1177.000000  1177.000000  1177.000000  1177.000000   \n",
       "mean     13.925094       2.120169     7.378532    26.911766     1.853426   \n",
       "std       2.652732       0.251532     0.058367     5.167512     0.882849   \n",
       "min       6.636364       1.400000     7.090000    12.857143     0.500000   \n",
       "25%      12.250000       1.955556     7.350000    23.454545     1.300000   \n",
       "50%      13.666667       2.092308     7.378532    26.500000     1.833333   \n",
       "75%      15.416667       2.241667     7.410000    29.875000     2.000000   \n",
       "max      25.500000       4.072727     7.580000    47.666667     8.333333   \n",
       "\n",
       "              PCO2           EF  \n",
       "count  1177.000000  1177.000000  \n",
       "mean     45.535382    48.715378  \n",
       "std      11.008284    12.868436  \n",
       "min      18.750000    15.000000  \n",
       "25%      39.000000    40.000000  \n",
       "50%      45.535382    55.000000  \n",
       "75%      47.272727    55.000000  \n",
       "max      98.600000    75.000000  \n",
       "\n",
       "[8 rows x 51 columns]"
      ]
     },
     "execution_count": 60,
     "metadata": {},
     "output_type": "execute_result"
    }
   ],
   "source": [
    "# Let's get the statistical measures of our data\n",
    "\n",
    "Mortality_data.describe()"
   ]
  },
  {
   "cell_type": "markdown",
   "id": "5277d2b4",
   "metadata": {},
   "source": [
    "# Numerical Features"
   ]
  },
  {
   "cell_type": "code",
   "execution_count": 61,
   "id": "221cc898",
   "metadata": {},
   "outputs": [],
   "source": [
    "sns.set()"
   ]
  },
  {
   "cell_type": "code",
   "execution_count": 62,
   "id": "9c70ded8",
   "metadata": {},
   "outputs": [
    {
     "data": {
      "text/plain": [
       "<Figure size 432x432 with 0 Axes>"
      ]
     },
     "metadata": {},
     "output_type": "display_data"
    },
    {
     "data": {
      "image/png": "[encoded data removed]",
      "text/plain": [
       "<Figure size 360x360 with 1 Axes>"
      ]
     },
     "metadata": {},
     "output_type": "display_data"
    }
   ],
   "source": [
    "# Let's create a distribution plot for 'age' numerical feature\n",
    "\n",
    "plt.figure(figsize = (6,6))\n",
    "sns.displot(Mortality_data['age'])\n",
    "plt.show()"
   ]
  },
  {
   "cell_type": "markdown",
   "id": "95816804",
   "metadata": {},
   "source": [
    "### There are more values distributed between 60-80 age range."
   ]
  },
  {
   "cell_type": "code",
   "execution_count": 63,
   "id": "d3e093ba",
   "metadata": {},
   "outputs": [
    {
     "data": {
      "text/plain": [
       "<Figure size 432x432 with 0 Axes>"
      ]
     },
     "metadata": {},
     "output_type": "display_data"
    },
    {
     "data": {
      "image/png": "[encoded data removed]",
      "text/plain": [
       "<Figure size 360x360 with 1 Axes>"
      ]
     },
     "metadata": {},
     "output_type": "display_data"
    }
   ],
   "source": [
    "# Let's create a distribution plot for 'gendera' numerical feature\n",
    "\n",
    "plt.figure(figsize = (6,6))\n",
    "sns.displot(Mortality_data['gendera'])\n",
    "plt.show()"
   ]
  },
  {
   "cell_type": "code",
   "execution_count": 64,
   "id": "bc1bd2c3",
   "metadata": {},
   "outputs": [
    {
     "data": {
      "text/plain": [
       "<Figure size 432x432 with 0 Axes>"
      ]
     },
     "metadata": {},
     "output_type": "display_data"
    },
    {
     "data": {
      "image/png": "[encoded data removed]",
      "text/plain": [
       "<Figure size 360x360 with 1 Axes>"
      ]
     },
     "metadata": {},
     "output_type": "display_data"
    }
   ],
   "source": [
    "# Let's create a distribution plot for 'BMI' numerical feature\n",
    "\n",
    "plt.figure(figsize = (6,6))\n",
    "sns.displot(Mortality_data['BMI'])\n",
    "plt.show()"
   ]
  },
  {
   "cell_type": "code",
   "execution_count": 65,
   "id": "d1e4c864",
   "metadata": {},
   "outputs": [
    {
     "data": {
      "text/plain": [
       "<Figure size 432x432 with 0 Axes>"
      ]
     },
     "metadata": {},
     "output_type": "display_data"
    },
    {
     "data": {
      "image/png": "[encoded data removed]",
      "text/plain": [
       "<Figure size 360x360 with 1 Axes>"
      ]
     },
     "metadata": {},
     "output_type": "display_data"
    }
   ],
   "source": [
    "# Let's create a distribution plot for 'hypertensive' numerical feature\n",
    "\n",
    "plt.figure(figsize = (6,6))\n",
    "sns.displot(Mortality_data['hypertensive'])\n",
    "plt.show()"
   ]
  },
  {
   "cell_type": "code",
   "execution_count": 66,
   "id": "ef690f7b",
   "metadata": {},
   "outputs": [
    {
     "data": {
      "text/plain": [
       "<Figure size 432x432 with 0 Axes>"
      ]
     },
     "metadata": {},
     "output_type": "display_data"
    },
    {
     "data": {
      "image/png": "[encoded data removed]",
      "text/plain": [
       "<Figure size 360x360 with 1 Axes>"
      ]
     },
     "metadata": {},
     "output_type": "display_data"
    }
   ],
   "source": [
    "# Let's create a distribution plot for 'diabetes' numerical feature\n",
    "\n",
    "plt.figure(figsize = (6,6))\n",
    "sns.displot(Mortality_data['diabetes'])\n",
    "plt.show()"
   ]
  },
  {
   "cell_type": "code",
   "execution_count": 67,
   "id": "69298df7",
   "metadata": {},
   "outputs": [
    {
     "data": {
      "text/plain": [
       "<Figure size 432x432 with 0 Axes>"
      ]
     },
     "metadata": {},
     "output_type": "display_data"
    },
    {
     "data": {
      "image/png": "[encoded data removed]",
      "text/plain": [
       "<Figure size 360x360 with 1 Axes>"
      ]
     },
     "metadata": {},
     "output_type": "display_data"
    }
   ],
   "source": [
    "# Let's create a distribution plot for 'Renal failure' numerical feature\n",
    "\n",
    "plt.figure(figsize = (6,6))\n",
    "sns.displot(Mortality_data['Renal failure'])\n",
    "plt.show()"
   ]
  },
  {
   "cell_type": "code",
   "execution_count": 68,
   "id": "7dd0c7a6",
   "metadata": {},
   "outputs": [
    {
     "data": {
      "text/plain": [
       "<Figure size 432x432 with 0 Axes>"
      ]
     },
     "metadata": {},
     "output_type": "display_data"
    },
    {
     "data": {
      "image/png": "[encoded data removed]",
      "text/plain": [
       "<Figure size 360x360 with 1 Axes>"
      ]
     },
     "metadata": {},
     "output_type": "display_data"
    }
   ],
   "source": [
    "# Let's create a distribution plot for 'heart rate' numerical feature\n",
    "\n",
    "plt.figure(figsize = (6,6))\n",
    "sns.displot(Mortality_data['heart rate'])\n",
    "plt.show()"
   ]
  },
  {
   "cell_type": "code",
   "execution_count": 69,
   "id": "001dbd5b",
   "metadata": {},
   "outputs": [
    {
     "data": {
      "text/plain": [
       "<Figure size 432x432 with 0 Axes>"
      ]
     },
     "metadata": {},
     "output_type": "display_data"
    },
    {
     "data": {
      "image/png": "[encoded data removed]",
      "text/plain": [
       "<Figure size 360x360 with 1 Axes>"
      ]
     },
     "metadata": {},
     "output_type": "display_data"
    }
   ],
   "source": [
    "# Let's create a distribution plot for 'Urine output' numerical feature\n",
    "\n",
    "plt.figure(figsize = (6,6))\n",
    "sns.displot(Mortality_data['Urine output'])\n",
    "plt.show()"
   ]
  },
  {
   "cell_type": "code",
   "execution_count": 70,
   "id": "5f83dccc",
   "metadata": {},
   "outputs": [
    {
     "data": {
      "text/plain": [
       "<Figure size 432x432 with 0 Axes>"
      ]
     },
     "metadata": {},
     "output_type": "display_data"
    },
    {
     "data": {
      "image/png": "[encoded data removed]",
      "text/plain": [
       "<Figure size 360x360 with 1 Axes>"
      ]
     },
     "metadata": {},
     "output_type": "display_data"
    }
   ],
   "source": [
    "# Let's create a distribution plot for 'Systolic blood pressure' numerical feature\n",
    "\n",
    "plt.figure(figsize = (6,6))\n",
    "sns.displot(Mortality_data['Systolic blood pressure'])\n",
    "plt.show()"
   ]
  },
  {
   "cell_type": "code",
   "execution_count": 71,
   "id": "0d6b11bd",
   "metadata": {},
   "outputs": [
    {
     "data": {
      "text/plain": [
       "<Figure size 432x432 with 0 Axes>"
      ]
     },
     "metadata": {},
     "output_type": "display_data"
    },
    {
     "data": {
      "image/png": "[encoded data removed]",
      "text/plain": [
       "<Figure size 360x360 with 1 Axes>"
      ]
     },
     "metadata": {},
     "output_type": "display_data"
    }
   ],
   "source": [
    "# Let's create a distribution plot for 'Diastolic blood pressure' numerical feature\n",
    "\n",
    "plt.figure(figsize = (6,6))\n",
    "sns.displot(Mortality_data['Diastolic blood pressure'])\n",
    "plt.show()"
   ]
  },
  {
   "cell_type": "code",
   "execution_count": 72,
   "id": "b5909cd7",
   "metadata": {},
   "outputs": [
    {
     "data": {
      "text/plain": [
       "<Figure size 432x432 with 0 Axes>"
      ]
     },
     "metadata": {},
     "output_type": "display_data"
    },
    {
     "data": {
      "image/png": "[encoded data removed]",
      "text/plain": [
       "<Figure size 360x360 with 1 Axes>"
      ]
     },
     "metadata": {},
     "output_type": "display_data"
    }
   ],
   "source": [
    "# Let's create a distribution plot for 'Respiratory rate' numerical feature\n",
    "\n",
    "plt.figure(figsize = (6,6))\n",
    "sns.displot(Mortality_data['Respiratory rate'])\n",
    "plt.show()"
   ]
  },
  {
   "cell_type": "code",
   "execution_count": 73,
   "id": "aed86f78",
   "metadata": {},
   "outputs": [
    {
     "data": {
      "text/plain": [
       "<Figure size 432x432 with 0 Axes>"
      ]
     },
     "metadata": {},
     "output_type": "display_data"
    },
    {
     "data": {
      "image/png": "[encoded data removed]",
      "text/plain": [
       "<Figure size 360x360 with 1 Axes>"
      ]
     },
     "metadata": {},
     "output_type": "display_data"
    }
   ],
   "source": [
    "# Let's create a distribution plot for 'temperature' numerical feature\n",
    "\n",
    "plt.figure(figsize = (6,6))\n",
    "sns.displot(Mortality_data['temperature'])\n",
    "plt.show()"
   ]
  },
  {
   "cell_type": "code",
   "execution_count": 74,
   "id": "c209f801",
   "metadata": {},
   "outputs": [
    {
     "data": {
      "text/plain": [
       "0    1018\n",
       "1     159\n",
       "Name: outcome, dtype: int64"
      ]
     },
     "execution_count": 74,
     "metadata": {},
     "output_type": "execute_result"
    }
   ],
   "source": [
    "# Let's check the distribution of the Outcome variable\n",
    "\n",
    "Mortality_data['outcome'].value_counts()"
   ]
  },
  {
   "cell_type": "markdown",
   "id": "1b7ddc66",
   "metadata": {},
   "source": [
    "### 0--------> Survivor\n",
    "\n",
    "### 1..........> Non Survivor"
   ]
  },
  {
   "cell_type": "markdown",
   "id": "ffbcaa28",
   "metadata": {},
   "source": [
    "# Splitting the Features and Target"
   ]
  },
  {
   "cell_type": "code",
   "execution_count": 75,
   "id": "db3c0724",
   "metadata": {},
   "outputs": [],
   "source": [
    "# Before splitting the features and target variable, let's drop the features that won't be needed for our prediction\n",
    "\n",
    "Mortality_data.drop('group', axis = 1, inplace = True)"
   ]
  },
  {
   "cell_type": "code",
   "execution_count": 76,
   "id": "23f1c9fb",
   "metadata": {},
   "outputs": [],
   "source": [
    "Mortality_data.drop('ID', axis = 1, inplace = True)"
   ]
  },
  {
   "cell_type": "code",
   "execution_count": 77,
   "id": "197c89c2",
   "metadata": {},
   "outputs": [
    {
     "data": {
      "text/html": [
       "<div>\n",
       "<style scoped>\n",
       "    .dataframe tbody tr th:only-of-type {\n",
       "        vertical-align: middle;\n",
       "    }\n",
       "\n",
       "    .dataframe tbody tr th {\n",
       "        vertical-align: top;\n",
       "    }\n",
       "\n",
       "    .dataframe thead th {\n",
       "        text-align: right;\n",
       "    }\n",
       "</style>\n",
       "<table border=\"1\" class=\"dataframe\">\n",
       "  <thead>\n",
       "    <tr style=\"text-align: right;\">\n",
       "      <th></th>\n",
       "      <th>outcome</th>\n",
       "      <th>age</th>\n",
       "      <th>gendera</th>\n",
       "      <th>BMI</th>\n",
       "      <th>hypertensive</th>\n",
       "      <th>atrialfibrillation</th>\n",
       "      <th>CHD with no MI</th>\n",
       "      <th>diabetes</th>\n",
       "      <th>deficiencyanemias</th>\n",
       "      <th>depression</th>\n",
       "      <th>...</th>\n",
       "      <th>Blood sodium</th>\n",
       "      <th>Blood calcium</th>\n",
       "      <th>Chloride</th>\n",
       "      <th>Anion gap</th>\n",
       "      <th>Magnesium ion</th>\n",
       "      <th>PH</th>\n",
       "      <th>Bicarbonate</th>\n",
       "      <th>Lactic acid</th>\n",
       "      <th>PCO2</th>\n",
       "      <th>EF</th>\n",
       "    </tr>\n",
       "  </thead>\n",
       "  <tbody>\n",
       "    <tr>\n",
       "      <th>0</th>\n",
       "      <td>0</td>\n",
       "      <td>72</td>\n",
       "      <td>1</td>\n",
       "      <td>37.588179</td>\n",
       "      <td>0</td>\n",
       "      <td>0</td>\n",
       "      <td>0</td>\n",
       "      <td>1</td>\n",
       "      <td>1</td>\n",
       "      <td>0</td>\n",
       "      <td>...</td>\n",
       "      <td>138.750000</td>\n",
       "      <td>7.463636</td>\n",
       "      <td>109.166667</td>\n",
       "      <td>13.166667</td>\n",
       "      <td>2.618182</td>\n",
       "      <td>7.230</td>\n",
       "      <td>21.166667</td>\n",
       "      <td>0.5</td>\n",
       "      <td>40.0</td>\n",
       "      <td>55</td>\n",
       "    </tr>\n",
       "    <tr>\n",
       "      <th>1</th>\n",
       "      <td>0</td>\n",
       "      <td>75</td>\n",
       "      <td>2</td>\n",
       "      <td>30.188278</td>\n",
       "      <td>0</td>\n",
       "      <td>0</td>\n",
       "      <td>0</td>\n",
       "      <td>0</td>\n",
       "      <td>1</td>\n",
       "      <td>0</td>\n",
       "      <td>...</td>\n",
       "      <td>138.888889</td>\n",
       "      <td>8.162500</td>\n",
       "      <td>98.444444</td>\n",
       "      <td>11.444444</td>\n",
       "      <td>1.887500</td>\n",
       "      <td>7.225</td>\n",
       "      <td>33.444444</td>\n",
       "      <td>0.5</td>\n",
       "      <td>78.0</td>\n",
       "      <td>55</td>\n",
       "    </tr>\n",
       "    <tr>\n",
       "      <th>2</th>\n",
       "      <td>0</td>\n",
       "      <td>83</td>\n",
       "      <td>2</td>\n",
       "      <td>26.572634</td>\n",
       "      <td>0</td>\n",
       "      <td>0</td>\n",
       "      <td>0</td>\n",
       "      <td>0</td>\n",
       "      <td>1</td>\n",
       "      <td>0</td>\n",
       "      <td>...</td>\n",
       "      <td>140.714286</td>\n",
       "      <td>8.266667</td>\n",
       "      <td>105.857143</td>\n",
       "      <td>10.000000</td>\n",
       "      <td>2.157143</td>\n",
       "      <td>7.268</td>\n",
       "      <td>30.571429</td>\n",
       "      <td>0.5</td>\n",
       "      <td>71.5</td>\n",
       "      <td>35</td>\n",
       "    </tr>\n",
       "    <tr>\n",
       "      <th>3</th>\n",
       "      <td>0</td>\n",
       "      <td>43</td>\n",
       "      <td>2</td>\n",
       "      <td>83.264629</td>\n",
       "      <td>0</td>\n",
       "      <td>0</td>\n",
       "      <td>0</td>\n",
       "      <td>0</td>\n",
       "      <td>0</td>\n",
       "      <td>0</td>\n",
       "      <td>...</td>\n",
       "      <td>138.500000</td>\n",
       "      <td>9.476923</td>\n",
       "      <td>92.071429</td>\n",
       "      <td>12.357143</td>\n",
       "      <td>1.942857</td>\n",
       "      <td>7.370</td>\n",
       "      <td>38.571429</td>\n",
       "      <td>0.6</td>\n",
       "      <td>75.0</td>\n",
       "      <td>55</td>\n",
       "    </tr>\n",
       "    <tr>\n",
       "      <th>4</th>\n",
       "      <td>0</td>\n",
       "      <td>75</td>\n",
       "      <td>2</td>\n",
       "      <td>31.824842</td>\n",
       "      <td>1</td>\n",
       "      <td>0</td>\n",
       "      <td>0</td>\n",
       "      <td>0</td>\n",
       "      <td>1</td>\n",
       "      <td>0</td>\n",
       "      <td>...</td>\n",
       "      <td>136.666667</td>\n",
       "      <td>8.733333</td>\n",
       "      <td>104.500000</td>\n",
       "      <td>15.166667</td>\n",
       "      <td>1.650000</td>\n",
       "      <td>7.250</td>\n",
       "      <td>22.000000</td>\n",
       "      <td>0.6</td>\n",
       "      <td>50.0</td>\n",
       "      <td>55</td>\n",
       "    </tr>\n",
       "  </tbody>\n",
       "</table>\n",
       "<p>5 rows × 49 columns</p>\n",
       "</div>"
      ],
      "text/plain": [
       "   outcome  age  gendera        BMI  hypertensive  atrialfibrillation  \\\n",
       "0        0   72        1  37.588179             0                   0   \n",
       "1        0   75        2  30.188278             0                   0   \n",
       "2        0   83        2  26.572634             0                   0   \n",
       "3        0   43        2  83.264629             0                   0   \n",
       "4        0   75        2  31.824842             1                   0   \n",
       "\n",
       "   CHD with no MI  diabetes  deficiencyanemias  depression  ...  Blood sodium  \\\n",
       "0               0         1                  1           0  ...    138.750000   \n",
       "1               0         0                  1           0  ...    138.888889   \n",
       "2               0         0                  1           0  ...    140.714286   \n",
       "3               0         0                  0           0  ...    138.500000   \n",
       "4               0         0                  1           0  ...    136.666667   \n",
       "\n",
       "   Blood calcium    Chloride  Anion gap  Magnesium ion     PH  Bicarbonate  \\\n",
       "0       7.463636  109.166667  13.166667       2.618182  7.230    21.166667   \n",
       "1       8.162500   98.444444  11.444444       1.887500  7.225    33.444444   \n",
       "2       8.266667  105.857143  10.000000       2.157143  7.268    30.571429   \n",
       "3       9.476923   92.071429  12.357143       1.942857  7.370    38.571429   \n",
       "4       8.733333  104.500000  15.166667       1.650000  7.250    22.000000   \n",
       "\n",
       "   Lactic acid  PCO2  EF  \n",
       "0          0.5  40.0  55  \n",
       "1          0.5  78.0  55  \n",
       "2          0.5  71.5  35  \n",
       "3          0.6  75.0  55  \n",
       "4          0.6  50.0  55  \n",
       "\n",
       "[5 rows x 49 columns]"
      ]
     },
     "execution_count": 77,
     "metadata": {},
     "output_type": "execute_result"
    }
   ],
   "source": [
    "# Let's view our data\n",
    "\n",
    "Mortality_data.head()"
   ]
  },
  {
   "cell_type": "code",
   "execution_count": 80,
   "id": "d53dcb8e",
   "metadata": {},
   "outputs": [],
   "source": [
    "X = Mortality_data.drop(columns = 'outcome', axis = 1)\n",
    "Y = Mortality_data['outcome']"
   ]
  },
  {
   "cell_type": "code",
   "execution_count": 81,
   "id": "4dafbdd5",
   "metadata": {},
   "outputs": [
    {
     "name": "stdout",
     "output_type": "stream",
     "text": [
      "      age  gendera        BMI  hypertensive  atrialfibrillation  \\\n",
      "0      72        1  37.588179             0                   0   \n",
      "1      75        2  30.188278             0                   0   \n",
      "2      83        2  26.572634             0                   0   \n",
      "3      43        2  83.264629             0                   0   \n",
      "4      75        2  31.824842             1                   0   \n",
      "...   ...      ...        ...           ...                 ...   \n",
      "1172   62        1  25.516870             1                   1   \n",
      "1173   78        1  25.822710             0                   1   \n",
      "1174   85        2  23.891779             1                   1   \n",
      "1175   79        2  35.288554             0                   0   \n",
      "1176   47        1  23.121384             1                   0   \n",
      "\n",
      "      CHD with no MI  diabetes  deficiencyanemias  depression  Hyperlipemia  \\\n",
      "0                  0         1                  1           0             1   \n",
      "1                  0         0                  1           0             0   \n",
      "2                  0         0                  1           0             0   \n",
      "3                  0         0                  0           0             0   \n",
      "4                  0         0                  1           0             0   \n",
      "...              ...       ...                ...         ...           ...   \n",
      "1172               0         1                  0           1             1   \n",
      "1173               0         1                  0           1             1   \n",
      "1174               0         1                  1           0             0   \n",
      "1175               1         1                  1           1             1   \n",
      "1176               0         1                  0           0             0   \n",
      "\n",
      "      ...  Blood sodium  Blood calcium    Chloride  Anion gap  Magnesium ion  \\\n",
      "0     ...    138.750000       7.463636  109.166667  13.166667       2.618182   \n",
      "1     ...    138.888889       8.162500   98.444444  11.444444       1.887500   \n",
      "2     ...    140.714286       8.266667  105.857143  10.000000       2.157143   \n",
      "3     ...    138.500000       9.476923   92.071429  12.357143       1.942857   \n",
      "4     ...    136.666667       8.733333  104.500000  15.166667       1.650000   \n",
      "...   ...           ...            ...         ...        ...            ...   \n",
      "1172  ...    136.714286      10.271429   94.428571  20.142857       2.714286   \n",
      "1173  ...    135.680000      10.523529  101.720000  18.160000       2.012500   \n",
      "1174  ...    136.000000       8.466667   97.285714  14.000000       2.028571   \n",
      "1175  ...    140.000000       8.183333  104.000000  15.750000       2.090000   \n",
      "1176  ...    135.285714       9.085714   93.857143  20.285714       2.566667   \n",
      "\n",
      "            PH  Bicarbonate  Lactic acid       PCO2  EF  \n",
      "0     7.230000    21.166667     0.500000  40.000000  55  \n",
      "1     7.225000    33.444444     0.500000  78.000000  55  \n",
      "2     7.268000    30.571429     0.500000  71.500000  35  \n",
      "3     7.370000    38.571429     0.600000  75.000000  55  \n",
      "4     7.250000    22.000000     0.600000  50.000000  55  \n",
      "...        ...          ...          ...        ...  ..  \n",
      "1172  7.378532    27.714286     1.853426  45.535382  40  \n",
      "1173  7.378532    20.480000     1.853426  45.535382  30  \n",
      "1174  7.378532    28.857143     1.853426  45.535382  55  \n",
      "1175  7.378532    24.375000     1.853426  45.535382  25  \n",
      "1176  7.378532    26.571429     1.853426  45.535382  55  \n",
      "\n",
      "[1177 rows x 48 columns]\n"
     ]
    }
   ],
   "source": [
    "# Let's print X\n",
    "\n",
    "print(X)"
   ]
  },
  {
   "cell_type": "code",
   "execution_count": 82,
   "id": "cb5f928c",
   "metadata": {},
   "outputs": [
    {
     "name": "stdout",
     "output_type": "stream",
     "text": [
      "0       0\n",
      "1       0\n",
      "2       0\n",
      "3       0\n",
      "4       0\n",
      "       ..\n",
      "1172    0\n",
      "1173    0\n",
      "1174    0\n",
      "1175    0\n",
      "1176    0\n",
      "Name: outcome, Length: 1177, dtype: int32\n"
     ]
    }
   ],
   "source": [
    "# Let's print Y\n",
    "\n",
    "print(Y)"
   ]
  },
  {
   "cell_type": "markdown",
   "id": "3acb46f8",
   "metadata": {},
   "source": [
    "# Training the data into Training Data and Test Data"
   ]
  },
  {
   "cell_type": "code",
   "execution_count": 95,
   "id": "27cbdb1a",
   "metadata": {},
   "outputs": [],
   "source": [
    "X_train, X_test, Y_train, Y_test = train_test_split(X,Y, test_size = 0.2, random_state = 2)"
   ]
  },
  {
   "cell_type": "code",
   "execution_count": 96,
   "id": "86d81fd8",
   "metadata": {},
   "outputs": [
    {
     "name": "stdout",
     "output_type": "stream",
     "text": [
      "(1177, 48) (941, 48) (236, 48)\n"
     ]
    }
   ],
   "source": [
    "# Let's check the number of training and test data we have\n",
    "\n",
    "print(X.shape, X_train.shape, X_test.shape)"
   ]
  },
  {
   "cell_type": "markdown",
   "id": "6b66d5ad",
   "metadata": {},
   "source": [
    "# Model Training..........> Logistic Regression"
   ]
  },
  {
   "cell_type": "code",
   "execution_count": 97,
   "id": "b1557cc8",
   "metadata": {},
   "outputs": [],
   "source": [
    "model = LogisticRegression()"
   ]
  },
  {
   "cell_type": "code",
   "execution_count": 98,
   "id": "d2075da7",
   "metadata": {},
   "outputs": [
    {
     "name": "stderr",
     "output_type": "stream",
     "text": [
      "C:\\Users\\LENOVO USER\\anaconda3\\lib\\site-packages\\sklearn\\linear_model\\_logistic.py:814: ConvergenceWarning: lbfgs failed to converge (status=1):\n",
      "STOP: TOTAL NO. of ITERATIONS REACHED LIMIT.\n",
      "\n",
      "Increase the number of iterations (max_iter) or scale the data as shown in:\n",
      "    https://scikit-learn.org/stable/modules/preprocessing.html\n",
      "Please also refer to the documentation for alternative solver options:\n",
      "    https://scikit-learn.org/stable/modules/linear_model.html#logistic-regression\n",
      "  n_iter_i = _check_optimize_result(\n"
     ]
    },
    {
     "data": {
      "text/plain": [
       "LogisticRegression()"
      ]
     },
     "execution_count": 98,
     "metadata": {},
     "output_type": "execute_result"
    }
   ],
   "source": [
    "# Training the LogisticRegression model with Training data\n",
    "\n",
    "model.fit(X_train, Y_train)"
   ]
  },
  {
   "cell_type": "markdown",
   "id": "8f0e1803",
   "metadata": {},
   "source": [
    "# Model Evaluation"
   ]
  },
  {
   "cell_type": "markdown",
   "id": "e650fee9",
   "metadata": {},
   "source": [
    "### Accuracy Score"
   ]
  },
  {
   "cell_type": "code",
   "execution_count": 99,
   "id": "362f8d1e",
   "metadata": {},
   "outputs": [],
   "source": [
    "# Accuracy on training data\n",
    "\n",
    "X_train_prediction = model.predict(X_train)\n",
    "training_data_accuracy = accuracy_score(X_train_prediction, Y_train)"
   ]
  },
  {
   "cell_type": "code",
   "execution_count": 100,
   "id": "d26cc1e8",
   "metadata": {},
   "outputs": [
    {
     "name": "stdout",
     "output_type": "stream",
     "text": [
      "Accuracy on Training data :  0.8799149840595112\n"
     ]
    }
   ],
   "source": [
    "print('Accuracy on Training data : ', training_data_accuracy )"
   ]
  },
  {
   "cell_type": "markdown",
   "id": "10fa780a",
   "metadata": {},
   "source": [
    "### This is a good accuracy score which means out of 100 predictions our model can predict correctly for 88 values."
   ]
  },
  {
   "cell_type": "code",
   "execution_count": 101,
   "id": "2704559d",
   "metadata": {},
   "outputs": [],
   "source": [
    "# Accuracy on testing data\n",
    "\n",
    "X_test_prediction = model.predict(X_test)\n",
    "test_data_accuracy = accuracy_score(X_test_prediction, Y_test)"
   ]
  },
  {
   "cell_type": "code",
   "execution_count": 102,
   "id": "3fca2bbb",
   "metadata": {},
   "outputs": [
    {
     "name": "stdout",
     "output_type": "stream",
     "text": [
      "Accuracy on Test data :  0.8601694915254238\n"
     ]
    }
   ],
   "source": [
    "print('Accuracy on Test data : ', test_data_accuracy)"
   ]
  },
  {
   "cell_type": "markdown",
   "id": "0ee2de95",
   "metadata": {},
   "source": [
    "# Building a Predictive System"
   ]
  },
  {
   "cell_type": "code",
   "execution_count": 103,
   "id": "768cd0d2",
   "metadata": {},
   "outputs": [
    {
     "name": "stdout",
     "output_type": "stream",
     "text": [
      "[0]\n"
     ]
    },
    {
     "name": "stderr",
     "output_type": "stream",
     "text": [
      "C:\\Users\\LENOVO USER\\anaconda3\\lib\\site-packages\\sklearn\\base.py:450: UserWarning: X does not have valid feature names, but LogisticRegression was fitted with feature names\n",
      "  warnings.warn(\n"
     ]
    }
   ],
   "source": [
    "input_data = (72,1,39.66742627,1,0,0,0,0,0,1,1,1,69.63636364,106.5652174,47.82608696,19.14814815,35.6031746,95.63636364,2450,28.9375,3.72,24.3375,31.3125,77.875,17.4,7.975,140.25,80.7,0.2,13.45,14,1.2,29683,108.25,2.96,109.1333333,105.6,4.606666667,144.1333333,8.775,106.6666667,15.2,1.875,7.169230769,26.8,0.625,69.76923077,55)\n",
    "\n",
    "# let's change the input data to a numpy arrary\n",
    "input_data_as_numpy_arrary = np.asarray(input_data)\n",
    "\n",
    "# Let's reshape the numpy arrary as we are predicting for only one instance\n",
    "input_data_reshaped = input_data_as_numpy_arrary.reshape(1,-1)\n",
    "\n",
    "prediction = model.predict(input_data_reshaped)\n",
    "print(prediction)"
   ]
  },
  {
   "cell_type": "markdown",
   "id": "9fbc13cf",
   "metadata": {},
   "source": [
    "### We can see our model predicted [0] which means the patient suffering heart failure is a survivor."
   ]
  }
 ],
 "metadata": {
  "kernelspec": {
   "display_name": "Python 3 (ipykernel)",
   "language": "python",
   "name": "python3"
  },
  "language_info": {
   "codemirror_mode": {
    "name": "ipython",
    "version": 3
   },
   "file_extension": ".py",
   "mimetype": "text/x-python",
   "name": "python",
   "nbconvert_exporter": "python",
   "pygments_lexer": "ipython3",
   "version": "3.9.12"
  }
 },
 "nbformat": 4,
 "nbformat_minor": 5
}
